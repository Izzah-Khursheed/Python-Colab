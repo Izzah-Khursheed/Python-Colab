{
  "nbformat": 4,
  "nbformat_minor": 0,
  "metadata": {
    "colab": {
      "provenance": [],
      "include_colab_link": true
    },
    "kernelspec": {
      "name": "python3",
      "display_name": "Python 3"
    },
    "language_info": {
      "name": "python"
    }
  },
  "cells": [
    {
      "cell_type": "markdown",
      "metadata": {
        "id": "view-in-github",
        "colab_type": "text"
      },
      "source": [
        "<a href=\"https://colab.research.google.com/github/Izzah-Khursheed/Python-Colab/blob/main/Loops.ipynb\" target=\"_parent\"><img src=\"https://colab.research.google.com/assets/colab-badge.svg\" alt=\"Open In Colab\"/></a>"
      ]
    },
    {
      "cell_type": "markdown",
      "source": [
        "**Loops**\n",
        "\n",
        "Loops are used in programming to **repeat a set of instructions** **multiple times** until a **specific condition** is met.\n",
        "\n",
        "If we want to perform few steps of a program repeatedly, we will use loops instead of writing these lines each time.\n",
        "\n",
        "Loops make the program more **efficient** and **save time**.\n",
        "\n",
        "**Types of Loops:**\n",
        "\n",
        "**Two** types of loops are used in python:\n",
        "\n",
        "*   For Loop\n",
        "*   While Loop\n"
      ],
      "metadata": {
        "id": "fVm_RVvzgWz7"
      }
    },
    {
      "cell_type": "code",
      "source": [
        "print(\"Enter the names of students:\")\n",
        "print(\"Noor\")\n",
        "print(\"Rafia\")\n",
        "print(\"Izzah\")\n",
        "print(\"Ali\")\n",
        "print(\"Ahmad\")"
      ],
      "metadata": {
        "colab": {
          "base_uri": "https://localhost:8080/"
        },
        "id": "S--MYq2Cg0y6",
        "outputId": "0e97abbe-faa2-46b7-a671-4e527fa36fac"
      },
      "execution_count": null,
      "outputs": [
        {
          "output_type": "stream",
          "name": "stdout",
          "text": [
            "Enter the names of students:\n",
            "Noor\n",
            "Rafia\n",
            "Izzah\n",
            "Ali\n",
            "Ahmad\n"
          ]
        }
      ]
    },
    {
      "cell_type": "markdown",
      "source": [
        "**While Loop**\n",
        "\n",
        "A while loop is a way to make a computer repeat certain actions(set of statements) as long as a condition is true.\n",
        "\n",
        "**How it Works:**\n",
        "\n",
        "\n",
        "*   The loop **checks a condition** (like asking, \"Is this true?\")\n",
        "\n",
        "*   If the answer is \"yes\" (**true**), the computer **runs the instructions** inside the loop.\n",
        "\n",
        "*   It keeps doing this until the **condition** becomes **false**.\n"
      ],
      "metadata": {
        "id": "73lXRzrYt7IY"
      }
    },
    {
      "cell_type": "code",
      "source": [
        "count = 1\n",
        "while count <= 5:\n",
        "    print(\"Count is:\", count)\n",
        "    count += 1  # increase count by 1"
      ],
      "metadata": {
        "colab": {
          "base_uri": "https://localhost:8080/"
        },
        "id": "odDHOU_BuAlU",
        "outputId": "4eeb645a-848d-4b69-86be-759e396f592f"
      },
      "execution_count": null,
      "outputs": [
        {
          "output_type": "stream",
          "name": "stdout",
          "text": [
            "Count is: 1\n",
            "Count is: 2\n",
            "Count is: 3\n",
            "Count is: 4\n",
            "Count is: 5\n"
          ]
        }
      ]
    },
    {
      "cell_type": "code",
      "source": [
        "x = 1\n",
        "while x <= 5:\n",
        "  name = input(\"Enter name: \")\n",
        "  print(name)\n",
        "  x += 1"
      ],
      "metadata": {
        "colab": {
          "base_uri": "https://localhost:8080/"
        },
        "id": "31XjZxYVyMnw",
        "outputId": "64398871-c802-4532-f446-3c7e02591086"
      },
      "execution_count": null,
      "outputs": [
        {
          "output_type": "stream",
          "name": "stdout",
          "text": [
            "Enter name: Noor\n",
            "Noor\n",
            "Enter name: Rafia\n",
            "Rafia\n",
            "Enter name: Izzah\n",
            "Izzah\n",
            "Enter name: Ali\n",
            "Ali\n",
            "Enter name: Ahmad\n",
            "Ahmad\n"
          ]
        }
      ]
    },
    {
      "cell_type": "markdown",
      "source": [
        "**Practice Question:**\n",
        "\n",
        "**Write the multiplication table of 2 up to 10 using a while loop.**"
      ],
      "metadata": {
        "id": "6qAw7-iJzfSe"
      }
    },
    {
      "cell_type": "markdown",
      "source": [
        "**Proper Use of Increment in Break and Continue Statements:**\n",
        "\n",
        "*With break:* Ensure the increment is before break so that loop control works properly.\n",
        "\n",
        "*With continue:* Increment should be before continue to avoid infinite looping."
      ],
      "metadata": {
        "id": "QbAybe8EVqyZ"
      }
    },
    {
      "cell_type": "markdown",
      "source": [
        "**Break Statement:**\n",
        "\n",
        "With the break statement we can **stop the loop** even if the condition is **true**."
      ],
      "metadata": {
        "id": "qYJOCiXb0nNv"
      }
    },
    {
      "cell_type": "code",
      "source": [
        "i = 1\n",
        "while i<6:\n",
        "  if i == 3:\n",
        "    break\n",
        "  print(i)\n",
        "  i+=1"
      ],
      "metadata": {
        "colab": {
          "base_uri": "https://localhost:8080/",
          "height": 211
        },
        "id": "cOR9YnYq0APs",
        "outputId": "a48e67cb-3fc0-40c3-da26-93abf3dab22f"
      },
      "execution_count": null,
      "outputs": [
        {
          "output_type": "error",
          "ename": "KeyboardInterrupt",
          "evalue": "",
          "traceback": [
            "\u001b[0;31m---------------------------------------------------------------------------\u001b[0m",
            "\u001b[0;31mKeyboardInterrupt\u001b[0m                         Traceback (most recent call last)",
            "\u001b[0;32m<ipython-input-3-55026766940b>\u001b[0m in \u001b[0;36m<cell line: 0>\u001b[0;34m()\u001b[0m\n\u001b[1;32m      1\u001b[0m \u001b[0mi\u001b[0m \u001b[0;34m=\u001b[0m \u001b[0;36m1\u001b[0m\u001b[0;34m\u001b[0m\u001b[0;34m\u001b[0m\u001b[0m\n\u001b[0;32m----> 2\u001b[0;31m \u001b[0;32mwhile\u001b[0m \u001b[0mi\u001b[0m\u001b[0;34m<\u001b[0m\u001b[0;36m6\u001b[0m\u001b[0;34m:\u001b[0m\u001b[0;34m\u001b[0m\u001b[0;34m\u001b[0m\u001b[0m\n\u001b[0m\u001b[1;32m      3\u001b[0m   \u001b[0;32mif\u001b[0m \u001b[0mi\u001b[0m \u001b[0;34m==\u001b[0m \u001b[0;36m3\u001b[0m\u001b[0;34m:\u001b[0m\u001b[0;34m\u001b[0m\u001b[0;34m\u001b[0m\u001b[0m\n\u001b[1;32m      4\u001b[0m     \u001b[0;32mcontinue\u001b[0m\u001b[0;34m\u001b[0m\u001b[0;34m\u001b[0m\u001b[0m\n\u001b[1;32m      5\u001b[0m     \u001b[0mprint\u001b[0m\u001b[0;34m(\u001b[0m\u001b[0mi\u001b[0m\u001b[0;34m)\u001b[0m\u001b[0;34m\u001b[0m\u001b[0;34m\u001b[0m\u001b[0m\n",
            "\u001b[0;31mKeyboardInterrupt\u001b[0m: "
          ]
        }
      ]
    },
    {
      "cell_type": "code",
      "source": [
        "i = 1\n",
        "while i<=6:\n",
        "  print(i)\n",
        "  if i == 3:\n",
        "    break\n",
        "  i+=1"
      ],
      "metadata": {
        "id": "TmEeHri31O0H"
      },
      "execution_count": null,
      "outputs": []
    },
    {
      "cell_type": "markdown",
      "source": [
        "**Continue Statement:**\n",
        "\n",
        "The continue statement is used to **skip the current loop iteration** and **move** to the **next one** when a certain condition is met."
      ],
      "metadata": {
        "id": "kMBf3sUn2OVj"
      }
    },
    {
      "cell_type": "code",
      "source": [
        "i = 0\n",
        "while i<=6:\n",
        "  i+=1\n",
        "  if i == 3:\n",
        "    continue\n",
        "  print(i)\n",
        ""
      ],
      "metadata": {
        "colab": {
          "base_uri": "https://localhost:8080/"
        },
        "id": "jLXSn2ga2bQ_",
        "outputId": "da365957-5281-4c96-b755-205d76e6fbf3"
      },
      "execution_count": null,
      "outputs": [
        {
          "output_type": "stream",
          "name": "stdout",
          "text": [
            "1\n",
            "2\n",
            "4\n",
            "5\n",
            "6\n",
            "7\n"
          ]
        }
      ]
    },
    {
      "cell_type": "code",
      "source": [
        "i = 1\n",
        "while i <= 10:\n",
        "    if i == 3:\n",
        "        continue\n",
        "    print(i)\n",
        "    i += 1"
      ],
      "metadata": {
        "id": "vRCWnwl9nlRQ"
      },
      "execution_count": null,
      "outputs": []
    },
    {
      "cell_type": "code",
      "source": [
        "i = 1\n",
        "while i<=5:\n",
        "  i+=1\n",
        "  if i == 3:\n",
        "    continue\n",
        "  print(i)"
      ],
      "metadata": {
        "id": "_RaTGI8H2_58",
        "colab": {
          "base_uri": "https://localhost:8080/"
        },
        "outputId": "179d0657-d99c-4154-e612-722f007f1f9e"
      },
      "execution_count": 1,
      "outputs": [
        {
          "output_type": "stream",
          "name": "stdout",
          "text": [
            "2\n",
            "4\n",
            "5\n",
            "6\n"
          ]
        }
      ]
    },
    {
      "cell_type": "markdown",
      "source": [
        "**Else in While Loop:**\n",
        "\n",
        "With the else statement we can run **a block of code** once when the **condition no longer is true**.\n",
        "\n",
        "The else block will not execute if the loop is broken by a break statement.\n",
        "\n",
        "**How it Works:**\n",
        "\n",
        "**while loop:** Repeats as long as the condition is True.\n",
        "\n",
        "**else block:** Runs when the condition becomes False and the loop ends naturally."
      ],
      "metadata": {
        "id": "5S7ONckv32pR"
      }
    },
    {
      "cell_type": "code",
      "source": [
        "count = 1\n",
        "\n",
        "while count <= 5:\n",
        "    print(\"Counting:\", count)\n",
        "    count += 1\n",
        "else:\n",
        "    print(\"Loop finished because count is now greater than 5!\")\n"
      ],
      "metadata": {
        "colab": {
          "base_uri": "https://localhost:8080/"
        },
        "id": "GjardE1y4Fce",
        "outputId": "ba979561-1e75-42eb-ffb4-2a53c2fee777"
      },
      "execution_count": null,
      "outputs": [
        {
          "output_type": "stream",
          "name": "stdout",
          "text": [
            "Counting: 1\n",
            "Counting: 2\n",
            "Counting: 3\n",
            "Counting: 4\n",
            "Counting: 5\n",
            "Loop finished because count is now greater than 5!\n"
          ]
        }
      ]
    },
    {
      "cell_type": "code",
      "source": [
        "count = 1\n",
        "\n",
        "while count <= 5:\n",
        "    if count == 3:\n",
        "        break\n",
        "    print(\"Counting:\", count)\n",
        "    count += 1\n",
        "else:\n",
        "    print(\"This message won't show because of the break.\")\n"
      ],
      "metadata": {
        "colab": {
          "base_uri": "https://localhost:8080/"
        },
        "id": "W5KuHK4X4lzK",
        "outputId": "8a1b7655-c528-42e9-bf5d-2b1839faeb50"
      },
      "execution_count": null,
      "outputs": [
        {
          "output_type": "stream",
          "name": "stdout",
          "text": [
            "Counting: 1\n",
            "Counting: 2\n"
          ]
        }
      ]
    },
    {
      "cell_type": "markdown",
      "source": [
        "**Assignment**  \n",
        "\n",
        "**Develop a Guessing Game Using a While Loop**  \n",
        "\n",
        "- The user must guess a secret number.  \n",
        "- The user has three attempts to guess correctly.  \n",
        "- If the user guesses correctly within the attempts, display a message like **\"You won!\"**.  \n",
        "- If the user fails to guess after three attempts, display a message like **\"You lost!\"**."
      ],
      "metadata": {
        "id": "3VIhWez4mQv6"
      }
    },
    {
      "cell_type": "code",
      "source": [
        "#Secret Number Guessing Game ----- Assignment Submitted by Sir Haresh\n",
        "x = 1\n",
        "while x <= 3:\n",
        "    x += 1\n",
        "    number = int(input(\"Enter the secret number: \"))\n",
        "    if number == 8:\n",
        "        print(\"You Won\")\n",
        "        break\n",
        "    print(\"You loss\")\n",
        "else:\n",
        "    print(\"\\nYou lost the Game\")"
      ],
      "metadata": {
        "id": "jaVnPuLk2H8o"
      },
      "execution_count": null,
      "outputs": []
    },
    {
      "cell_type": "markdown",
      "source": [
        "**For Loop**\n",
        "\n",
        "The for loop in Python is used for iterating over a sequence, such as a string, list, tuple, set, dictionary or a range of numbers.\n",
        "\n",
        "It executes a block of code repeatedly until all elements in the sequence are traversed."
      ],
      "metadata": {
        "id": "EdhT31KBndqu"
      }
    },
    {
      "cell_type": "code",
      "source": [
        "#Syntax\n",
        "for variable in sequence:\n",
        "    # Code to execute"
      ],
      "metadata": {
        "id": "j0lOohbJuE_q"
      },
      "execution_count": null,
      "outputs": []
    },
    {
      "cell_type": "markdown",
      "source": [
        "**Working of For Loop**\n",
        "\n",
        "***1- Initialization*** – Assign the first element of the sequence to the loop variable.\n",
        "\n",
        "***2- Condition Check*** – Verify if more elements exist in the sequence.\n",
        "\n",
        "***3- Execute Loop Body*** – Run the code inside the loop for the current element.\n",
        "\n",
        "***4- Update Loop Variable*** – Move to the next element in the sequence.\n",
        "\n",
        "***5- Repeat Steps 2-4*** – Continue until all elements are processed.\n",
        "\n",
        "***6- Exit Loop*** – Stop when no elements remain and proceed to the next statement."
      ],
      "metadata": {
        "id": "7QpReYtxsv_0"
      }
    },
    {
      "cell_type": "code",
      "source": [
        "  string = \"Let's learn Python.\"\n",
        "  for i in string:\n",
        "    print(i)"
      ],
      "metadata": {
        "colab": {
          "base_uri": "https://localhost:8080/"
        },
        "id": "L1JU7M5rtLzP",
        "outputId": "688ec9ac-db07-40d0-e770-8ba252d9284d"
      },
      "execution_count": null,
      "outputs": [
        {
          "output_type": "stream",
          "name": "stdout",
          "text": [
            "L\n",
            "e\n",
            "t\n",
            "'\n",
            "s\n",
            " \n",
            "l\n",
            "e\n",
            "a\n",
            "r\n",
            "n\n",
            " \n",
            "P\n",
            "y\n",
            "t\n",
            "h\n",
            "o\n",
            "n\n",
            ".\n"
          ]
        }
      ]
    },
    {
      "cell_type": "code",
      "source": [
        "text = input(\"Enter a word: \")\n",
        "\n",
        "for char in text:\n",
        "    print(char)"
      ],
      "metadata": {
        "id": "XAT-v5JqtB4X"
      },
      "execution_count": null,
      "outputs": []
    },
    {
      "cell_type": "code",
      "source": [
        "numbers = \"0123456789\"\n",
        "for n in numbers:\n",
        "  #i = int(n)\n",
        "  print (n)\n",
        "  print (type(n))\n",
        "  # print (int(n))\n",
        "  # print (type(n))\n",
        "  # print (type(int(n)))"
      ],
      "metadata": {
        "colab": {
          "base_uri": "https://localhost:8080/"
        },
        "collapsed": true,
        "id": "q2kZ7bEeyWV9",
        "outputId": "110cda6e-ec44-4bcf-c850-0a06889efe42"
      },
      "execution_count": null,
      "outputs": [
        {
          "output_type": "stream",
          "name": "stdout",
          "text": [
            "0\n",
            "<class 'str'>\n",
            "1\n",
            "<class 'str'>\n",
            "2\n",
            "<class 'str'>\n",
            "3\n",
            "<class 'str'>\n",
            "4\n",
            "<class 'str'>\n",
            "5\n",
            "<class 'str'>\n",
            "6\n",
            "<class 'str'>\n",
            "7\n",
            "<class 'str'>\n",
            "8\n",
            "<class 'str'>\n",
            "9\n",
            "<class 'str'>\n"
          ]
        }
      ]
    },
    {
      "cell_type": "markdown",
      "source": [
        "**range() Function in for Loop**\n",
        "\n",
        "The range() function generates a sequence of numbers, which is useful when looping through a set of code a fixed number of times.\n",
        "\n",
        ".\n",
        "\n",
        "\n",
        "**Syntax of range () Function**\n",
        "\n",
        "***start (optional)*** – The starting number (default is 0).\n",
        "\n",
        "***stop*** – The number where the sequence stops (not included).\n",
        "\n",
        "***step (optional)*** – The difference between each number (default is 1)."
      ],
      "metadata": {
        "id": "O5VtOzjeZJDz"
      }
    },
    {
      "cell_type": "code",
      "source": [
        "range(start, stop, step)"
      ],
      "metadata": {
        "id": "UfnB2_Qmb5SV"
      },
      "execution_count": null,
      "outputs": []
    },
    {
      "cell_type": "code",
      "source": [
        "for num in range(11):\n",
        "    print(num)"
      ],
      "metadata": {
        "id": "9ZBldbt-b8lv",
        "colab": {
          "base_uri": "https://localhost:8080/"
        },
        "outputId": "a79a9a5c-e2db-4686-ba45-7156c0d5c2da"
      },
      "execution_count": null,
      "outputs": [
        {
          "output_type": "stream",
          "name": "stdout",
          "text": [
            "0\n",
            "1\n",
            "2\n",
            "3\n",
            "4\n",
            "5\n",
            "6\n",
            "7\n",
            "8\n",
            "9\n",
            "10\n"
          ]
        }
      ]
    },
    {
      "cell_type": "code",
      "source": [
        "for i in range(7,20,7):\n",
        "    print(i) #7, 8, 9, 10, 11"
      ],
      "metadata": {
        "id": "SYAw-C90c1ML",
        "colab": {
          "base_uri": "https://localhost:8080/"
        },
        "outputId": "e29d71d5-4fae-4f63-d701-73f098ae1794"
      },
      "execution_count": 7,
      "outputs": [
        {
          "output_type": "stream",
          "name": "stdout",
          "text": [
            "7\n",
            "14\n"
          ]
        }
      ]
    },
    {
      "cell_type": "code",
      "source": [
        "for k in range(10, 1, -2):  # Start at 10, go down to 1, decrease by 2\n",
        "    print(k)"
      ],
      "metadata": {
        "id": "9n-QysvrYc46"
      },
      "execution_count": null,
      "outputs": []
    },
    {
      "cell_type": "code",
      "source": [
        "for j in range(5):\n",
        "    print(j*\"*\")"
      ],
      "metadata": {
        "id": "awoZaestgJAz",
        "colab": {
          "base_uri": "https://localhost:8080/"
        },
        "outputId": "81cf021c-6eea-47be-e7e7-6fbea3ff53a0"
      },
      "execution_count": null,
      "outputs": [
        {
          "output_type": "stream",
          "name": "stdout",
          "text": [
            "\n",
            "*\n",
            "**\n",
            "***\n",
            "****\n"
          ]
        }
      ]
    },
    {
      "cell_type": "markdown",
      "source": [
        "**Break Statement in for Loop**\n",
        "\n",
        "The *break* *statement* is used to exit a loop when a certain condition is met."
      ],
      "metadata": {
        "id": "NS-5uHeHdmnf"
      }
    },
    {
      "cell_type": "code",
      "source": [
        "for char in \"Python\":\n",
        "    if char == \"h\":\n",
        "        break\n",
        "    print(char)"
      ],
      "metadata": {
        "id": "LMZrOEJYd7Sn",
        "colab": {
          "base_uri": "https://localhost:8080/"
        },
        "outputId": "022143c4-0a30-44ab-97b0-4f5e5ec20036"
      },
      "execution_count": null,
      "outputs": [
        {
          "output_type": "stream",
          "name": "stdout",
          "text": [
            "P\n",
            "y\n",
            "t\n"
          ]
        }
      ]
    },
    {
      "cell_type": "markdown",
      "source": [
        "**Continue Statement in for Loop**\n",
        "\n",
        "The *continue statement* skips the current iteration and moves to the next iteration of the loop."
      ],
      "metadata": {
        "id": "j_tNfNyZeBqW"
      }
    },
    {
      "cell_type": "code",
      "source": [
        "for char in \"iCodeGuru\":\n",
        "    if char == \"i\":\n",
        "        continue\n",
        "    print(char)"
      ],
      "metadata": {
        "colab": {
          "base_uri": "https://localhost:8080/"
        },
        "id": "YG8BfH-AebkW",
        "outputId": "9dd76666-bf06-44de-b684-ddb2b84a6eeb"
      },
      "execution_count": null,
      "outputs": [
        {
          "output_type": "stream",
          "name": "stdout",
          "text": [
            "C\n",
            "o\n",
            "d\n",
            "e\n",
            "G\n",
            "u\n",
            "r\n",
            "u\n"
          ]
        }
      ]
    },
    {
      "cell_type": "code",
      "source": [
        "total = 0\n",
        "numbers = input(\"Enter Numbers Without Space: \")\n",
        "\n",
        "for num in numbers:\n",
        "    total += int(num)\n",
        "\n",
        "print(\"Sum:\", total)"
      ],
      "metadata": {
        "colab": {
          "base_uri": "https://localhost:8080/"
        },
        "id": "qY3A3e6KuC7p",
        "outputId": "6e722524-02e4-4c62-d60b-48385c42f545"
      },
      "execution_count": null,
      "outputs": [
        {
          "output_type": "stream",
          "name": "stdout",
          "text": [
            "Enter Numbers Without Space: 12345678\n",
            "Sum: 36\n"
          ]
        }
      ]
    },
    {
      "cell_type": "markdown",
      "source": [
        "**Pass Statement in for Loop**\n",
        "\n",
        "The pass statement is a placeholder and does nothing. It is used when a loop or function is required syntactically but has no implementation yet."
      ],
      "metadata": {
        "id": "235WZ7KMej8q"
      }
    },
    {
      "cell_type": "code",
      "source": [
        "for x in range(5):\n",
        "  pass\n",
        "print(\"Hello World\")"
      ],
      "metadata": {
        "id": "Tej7gKIqeuU9",
        "colab": {
          "base_uri": "https://localhost:8080/"
        },
        "outputId": "1c5417fc-7757-4acc-fd10-a4c53e1cca3b"
      },
      "execution_count": 2,
      "outputs": [
        {
          "output_type": "stream",
          "name": "stdout",
          "text": [
            "Hello World\n"
          ]
        }
      ]
    },
    {
      "cell_type": "markdown",
      "source": [
        "**else in for Loop**\n",
        "\n",
        "The else block in a for loop executes after the loop finishes normally (i.e., without encountering a break statement)."
      ],
      "metadata": {
        "id": "Qzukw4fVe35_"
      }
    },
    {
      "cell_type": "code",
      "source": [
        "for num in range(1, 5):\n",
        "    print(num)\n",
        "else:\n",
        "    print(\"Loop Completed Successfully!\")"
      ],
      "metadata": {
        "id": "tlY7XOLCe9TE",
        "colab": {
          "base_uri": "https://localhost:8080/"
        },
        "outputId": "3141e277-1a7e-4999-c831-9ee213ccac51"
      },
      "execution_count": 5,
      "outputs": [
        {
          "output_type": "stream",
          "name": "stdout",
          "text": [
            "1\n",
            "2\n",
            "3\n",
            "4\n",
            "Loop Completed Successfully!\n"
          ]
        }
      ]
    },
    {
      "cell_type": "code",
      "source": [
        "for n in range(1, 20):\n",
        "    print(n)\n",
        "    if n == 5:\n",
        "        break\n",
        "else:\n",
        "    print(\"Loop completed successfully!\")"
      ],
      "metadata": {
        "id": "3opdzvp-d990",
        "colab": {
          "base_uri": "https://localhost:8080/"
        },
        "collapsed": true,
        "outputId": "7d4ba9d7-75c7-49a2-90ff-c224a5cb69ae"
      },
      "execution_count": 3,
      "outputs": [
        {
          "output_type": "stream",
          "name": "stdout",
          "text": [
            "1\n",
            "2\n",
            "3\n",
            "4\n",
            "5\n"
          ]
        }
      ]
    },
    {
      "cell_type": "markdown",
      "source": [
        "**Nested Loop**\n",
        "\n",
        "A nested loop is a loop inside another loop.\n",
        "\n",
        "The inner loop runs completely for each iteration of the outer loop."
      ],
      "metadata": {
        "id": "yzWGbmBSwqVn"
      }
    },
    {
      "cell_type": "code",
      "source": [
        "for row in \"ABCD\": #outer loop\n",
        "    for col in \"12345\": # inner loop\n",
        "        print(row + col)"
      ],
      "metadata": {
        "id": "R0VY7twUfm3G",
        "collapsed": true,
        "colab": {
          "base_uri": "https://localhost:8080/"
        },
        "outputId": "1b7952ab-db87-4b61-99ec-eb5d6077db1d"
      },
      "execution_count": 1,
      "outputs": [
        {
          "output_type": "stream",
          "name": "stdout",
          "text": [
            "A1\n",
            "A2\n",
            "A3\n",
            "A4\n",
            "A5\n",
            "B1\n",
            "B2\n",
            "B3\n",
            "B4\n",
            "B5\n",
            "C1\n",
            "C2\n",
            "C3\n",
            "C4\n",
            "C5\n",
            "D1\n",
            "D2\n",
            "D3\n",
            "D4\n",
            "D5\n"
          ]
        }
      ]
    },
    {
      "cell_type": "code",
      "source": [
        "i = 1\n",
        "while i <= 2:  #outer loop\n",
        "\n",
        "    j = 1\n",
        "    while j <= 2: #inner loop\n",
        "        print(i, j)\n",
        "        j += 1\n",
        "\n",
        "    i += 1"
      ],
      "metadata": {
        "id": "vW8m89kjgmjj",
        "colab": {
          "base_uri": "https://localhost:8080/"
        },
        "outputId": "0efe6471-a45a-4c59-e855-a91082675177"
      },
      "execution_count": 3,
      "outputs": [
        {
          "output_type": "stream",
          "name": "stdout",
          "text": [
            "1 1\n",
            "1 2\n",
            "2 1\n",
            "2 2\n"
          ]
        }
      ]
    },
    {
      "cell_type": "markdown",
      "source": [
        "**Key Takeaways**\n",
        "\n",
        "- Use for when looping over a sequence or a known range.\n",
        "\n",
        "- Use while when the loop should run based on a condition rather than a fixed count.\n",
        "\n",
        "- Prefer for for better readability when working with iterables.\n",
        "Use while carefully to avoid infinite loops."
      ],
      "metadata": {
        "id": "8pE_vlTtrvil"
      }
    },
    {
      "cell_type": "code",
      "source": [
        "for i in range(3):  # Loops exactly 3 times\n",
        "    print(i)"
      ],
      "metadata": {
        "id": "-qvEFXTubMzZ",
        "colab": {
          "base_uri": "https://localhost:8080/"
        },
        "outputId": "1aef7eca-8cb0-4bf3-83e7-ae137540d5f3"
      },
      "execution_count": 2,
      "outputs": [
        {
          "output_type": "stream",
          "name": "stdout",
          "text": [
            "0\n",
            "1\n",
            "2\n"
          ]
        }
      ]
    },
    {
      "cell_type": "code",
      "source": [
        "user_input = \"\"\n",
        "\n",
        "while user_input != \"exit\":\n",
        "    user_input = input(\"Enter something (type 'exit' to stop): \")\n",
        "    print(\"You entered:\", user_input)"
      ],
      "metadata": {
        "colab": {
          "base_uri": "https://localhost:8080/"
        },
        "id": "-TDUHNflbE7Z",
        "outputId": "80d6569d-df85-4f41-f412-2979502dea6d"
      },
      "execution_count": 8,
      "outputs": [
        {
          "output_type": "stream",
          "name": "stdout",
          "text": [
            "Enter something (type 'exit' to stop): A\n",
            "You entered: A\n",
            "Enter something (type 'exit' to stop): exit\n",
            "You entered: exit\n"
          ]
        }
      ]
    },
    {
      "cell_type": "code",
      "source": [
        "# #infinite loops\n",
        "# count = 0\n",
        "# while count < 5:\n",
        "#     print(count)"
      ],
      "metadata": {
        "id": "Wl3rKRflazhe"
      },
      "execution_count": 11,
      "outputs": []
    }
  ]
}