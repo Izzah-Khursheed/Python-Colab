{
  "nbformat": 4,
  "nbformat_minor": 0,
  "metadata": {
    "colab": {
      "provenance": [],
      "include_colab_link": true
    },
    "kernelspec": {
      "name": "python3",
      "display_name": "Python 3"
    },
    "language_info": {
      "name": "python"
    }
  },
  "cells": [
    {
      "cell_type": "markdown",
      "metadata": {
        "id": "view-in-github",
        "colab_type": "text"
      },
      "source": [
        "<a href=\"https://colab.research.google.com/github/Izzah-Khursheed/Python-Colab/blob/main/List.ipynb\" target=\"_parent\"><img src=\"https://colab.research.google.com/assets/colab-badge.svg\" alt=\"Open In Colab\"/></a>"
      ]
    },
    {
      "cell_type": "markdown",
      "source": [
        "**List:**\n",
        "\n",
        "A list in Python is a built-in data structure that allows you to store multiple items in a single variable.\n"
      ],
      "metadata": {
        "id": "z5dSZCESsXTU"
      }
    },
    {
      "cell_type": "markdown",
      "source": [
        "**Key Features of Lists:**\n",
        "\n",
        "***Ordered:*** Elements in a list are stored in a specific order.\n",
        "\n",
        "***Mutable:*** You can modify, add, or remove elements.\n",
        "\n",
        "***Allows Duplicates:*** Lists can contain duplicate elements.\n",
        "\n",
        "***Heterogeneous:*** Can store different data types (integers, strings, floats, etc.).\n",
        "\n",
        "***Indexed:*** Elements are accessed using an index, starting from 0."
      ],
      "metadata": {
        "id": "zOdiNjH3eDG5"
      }
    },
    {
      "cell_type": "markdown",
      "source": [
        "**Creating a List:**\n",
        "\n",
        "You can create a list using square brackets [  ] and separate the list elements with commas."
      ],
      "metadata": {
        "id": "S_-ox2aFjne3"
      }
    },
    {
      "cell_type": "code",
      "source": [
        "fruits = [\"Apple\", \"Banana\", \"Cherry\", \"Mango\"]\n",
        "print(fruits)"
      ],
      "metadata": {
        "colab": {
          "base_uri": "https://localhost:8080/"
        },
        "id": "xbn7YUvUggsZ",
        "outputId": "1223ffd9-237e-4f06-fd07-a09c14b37290"
      },
      "execution_count": null,
      "outputs": [
        {
          "output_type": "stream",
          "name": "stdout",
          "text": [
            "['Apple', 'Banana', 'Cherry', 'Mango']\n"
          ]
        }
      ]
    },
    {
      "cell_type": "code",
      "source": [
        "list1 = [\"Tayyaba\",10,True,5.3,\"Summer\"]\n",
        "print(list1)\n",
        "print(type(list1))"
      ],
      "metadata": {
        "colab": {
          "base_uri": "https://localhost:8080/"
        },
        "id": "KGLAsgB_srva",
        "outputId": "e3850d02-c95c-429c-cefc-159b417633f3"
      },
      "execution_count": null,
      "outputs": [
        {
          "output_type": "stream",
          "name": "stdout",
          "text": [
            "['Tayyaba', 10, True, 5.3, 'Summer']\n",
            "<class 'list'>\n"
          ]
        }
      ]
    },
    {
      "cell_type": "code",
      "source": [
        "empty = []\n",
        "print(empty)\n",
        "print(type(empty))"
      ],
      "metadata": {
        "colab": {
          "base_uri": "https://localhost:8080/"
        },
        "collapsed": true,
        "id": "1TxXn5l2jzIQ",
        "outputId": "48b4423e-fd53-4c63-acd5-d3eb8e7c6fab"
      },
      "execution_count": null,
      "outputs": [
        {
          "output_type": "stream",
          "name": "stdout",
          "text": [
            "[]\n",
            "<class 'list'>\n"
          ]
        }
      ]
    },
    {
      "cell_type": "markdown",
      "source": [
        "**List Length:**\n",
        "\n",
        "The length of a list in Python refers to the *number of elements* present in the list.\n",
        "\n",
        "You can find the length of a list using the `len()` function."
      ],
      "metadata": {
        "id": "CyRn92lZtv8e"
      }
    },
    {
      "cell_type": "markdown",
      "source": [
        "**Syntax:**\n",
        "\n",
        "`len(list_name)`"
      ],
      "metadata": {
        "id": "eFxJ0BgfkgbM"
      }
    },
    {
      "cell_type": "code",
      "source": [
        "list1 = [\"Tayyaba\", 10, True, 5.3, \"Summer\", \"Python\", 1560, \"123$#!\"]\n",
        "print(len(list1))"
      ],
      "metadata": {
        "colab": {
          "base_uri": "https://localhost:8080/"
        },
        "id": "WaGp_zDrt0IU",
        "outputId": "cfb31c2b-0e9c-492a-ff34-32df402edd1d"
      },
      "execution_count": null,
      "outputs": [
        {
          "output_type": "stream",
          "name": "stdout",
          "text": [
            "8\n"
          ]
        }
      ]
    },
    {
      "cell_type": "code",
      "source": [
        "numbers = [10, 20, 30, 40, 50]\n",
        "print(len(numbers))"
      ],
      "metadata": {
        "colab": {
          "base_uri": "https://localhost:8080/"
        },
        "id": "J_qddpiwkx8J",
        "outputId": "b089fb00-d5e0-49de-c68f-1fdf31630f75"
      },
      "execution_count": null,
      "outputs": [
        {
          "output_type": "stream",
          "name": "stdout",
          "text": [
            "5\n"
          ]
        }
      ]
    },
    {
      "cell_type": "code",
      "source": [
        "empty_list = []\n",
        "print(len(empty_list))"
      ],
      "metadata": {
        "colab": {
          "base_uri": "https://localhost:8080/"
        },
        "id": "oeiwvpOHlUEc",
        "outputId": "7f2e41cb-0e67-486a-df57-60dfe9a37a1b"
      },
      "execution_count": null,
      "outputs": [
        {
          "output_type": "stream",
          "name": "stdout",
          "text": [
            "0\n"
          ]
        }
      ]
    },
    {
      "cell_type": "markdown",
      "source": [
        "**Access List Items:**\n",
        "\n",
        "You can access list items using different methods such as;\n",
        "- Indexing\n",
        "- Slicing\n",
        "- Looping"
      ],
      "metadata": {
        "id": "okCS6lgvuFoJ"
      }
    },
    {
      "cell_type": "markdown",
      "source": [
        "**1- Accessing Elements Using Indexing:**\n",
        "\n",
        "- Lists in Python use zero-based indexing (i.e., the first element is at index 0).\n",
        "\n",
        "- You can access individual elements using their index inside square brackets [ ].\n",
        "\n",
        "- Negative indexing allows access from the end of the list."
      ],
      "metadata": {
        "id": "AmdUO7bkp5xp"
      }
    },
    {
      "cell_type": "code",
      "source": [
        "fruit = [\"apple\", \"banana\", \"cherry\", \"mango\", \"grapes\", \"strawberry\"]\n",
        "print(fruit[0])\n",
        "print(fruit[1])\n",
        "print(fruit[2])\n",
        "\n",
        "\n",
        "#negative indexing\n",
        "print(fruit[-1])\n",
        "print(fruit[-2])\n",
        "print(fruit[-3])"
      ],
      "metadata": {
        "colab": {
          "base_uri": "https://localhost:8080/"
        },
        "collapsed": true,
        "id": "sIpHk54nqIyU",
        "outputId": "9b51b3c3-2cea-4144-a9c5-4b75defe395b"
      },
      "execution_count": null,
      "outputs": [
        {
          "output_type": "stream",
          "name": "stdout",
          "text": [
            "apple\n",
            "banana\n",
            "cherry\n",
            "strawberry\n",
            "grapes\n",
            "mango\n"
          ]
        }
      ]
    },
    {
      "cell_type": "markdown",
      "source": [
        "**2- Accessing Multiple Elements Using Slicing:**\n",
        "\n",
        "- Slicing allows extracting a portion of a list using the syntax\n",
        "`list[start:end:step]`\n",
        "\n",
        "- start – The index where the slice starts (default is 0).\n",
        "\n",
        "- end – The index where the slice stops (exclusive).\n",
        "\n",
        "- step – The step size (default is 1)."
      ],
      "metadata": {
        "id": "lHupk-dIrsvp"
      }
    },
    {
      "cell_type": "code",
      "source": [
        "my_list = [10, 20, 30, 40, 50, 60]\n",
        "\n",
        "print(my_list[1:4])\n",
        "print(my_list[:3])\n",
        "print(my_list[2:])\n",
        "print(my_list[::2])\n",
        "print(my_list[::-1])  # Give Reversed List"
      ],
      "metadata": {
        "colab": {
          "base_uri": "https://localhost:8080/"
        },
        "id": "NMqPZ__mqfS4",
        "outputId": "d24c2d98-5849-4006-a659-69735304ce37"
      },
      "execution_count": null,
      "outputs": [
        {
          "output_type": "stream",
          "name": "stdout",
          "text": [
            "[20, 30, 40]\n",
            "[10, 20, 30]\n",
            "[30, 40, 50, 60]\n",
            "[10, 30, 50]\n",
            "[60, 50, 40, 30, 20, 10]\n"
          ]
        }
      ]
    },
    {
      "cell_type": "markdown",
      "source": [
        "- If the step is positive (1), start must be before stop for slicing to work. (0 1 2 3 4 5)\n",
        "- If the step is negative (-1), start must be after stop for slicing to work.  (-5 -4 -3 -2 -1)\n",
        "- If the range is logically invalid, Python returns []."
      ],
      "metadata": {
        "id": "IOLUC2cciRYM"
      }
    },
    {
      "cell_type": "code",
      "source": [
        "list4 = [\"Tayyaba\", 10, True, 5.3, \"Summer\", 200, \"cool\"]\n",
        "\n",
        "# print(list4[3])\n",
        "# print(list4[-1])\n",
        "# print(list4[0::-1])   #(0)+(-1)= -1\n",
        "# print(list4[-2:-4:1])   # -4, -3, -2, -1\n",
        "# print(list4[-2:-4:-1])    #(-2)+(-1) = -3\n",
        "\n",
        "#invalid ranges\n",
        "print(list4[5:0:1])\n",
        "print(list4[-4:-2:-1])"
      ],
      "metadata": {
        "colab": {
          "base_uri": "https://localhost:8080/"
        },
        "id": "qrVzDFt8uQWT",
        "outputId": "d0e249cf-dc54-42cc-8e1f-9c037e9fdd65"
      },
      "execution_count": null,
      "outputs": [
        {
          "output_type": "stream",
          "name": "stdout",
          "text": [
            "['Tayyaba']\n",
            "[]\n",
            "[200, 'Summer']\n"
          ]
        }
      ]
    },
    {
      "cell_type": "markdown",
      "source": [
        "**3- Accessing Elements Using Loops:**\n",
        "\n",
        "- Using a `for` loop to iterate over list elements directly."
      ],
      "metadata": {
        "id": "8fQbbFRxvNY7"
      }
    },
    {
      "cell_type": "code",
      "source": [
        "colors = [\"Red\", \"Blue\", \"Green\", \"Yellow\", \"Black\", \"Purple\"]\n",
        "for color in colors: #color = \"Red\"\n",
        "    print(f\"{color[0]} is {color}\")"
      ],
      "metadata": {
        "colab": {
          "base_uri": "https://localhost:8080/"
        },
        "id": "ZPGMwjT4v_35",
        "outputId": "8a754af6-623b-47d8-8816-509a3a0671f0"
      },
      "execution_count": null,
      "outputs": [
        {
          "output_type": "stream",
          "name": "stdout",
          "text": [
            "R is Red\n",
            "B is Blue\n",
            "G is Green\n",
            "Y is Yellow\n",
            "B is Black\n",
            "P is Purple\n"
          ]
        }
      ]
    },
    {
      "cell_type": "markdown",
      "source": [
        "- If you need both index and value, use `range(len(list_name))` to iterate through indices."
      ],
      "metadata": {
        "id": "qR4z4QuZvl2D"
      }
    },
    {
      "cell_type": "code",
      "source": [
        "animals = [\"cat\", \"dog\", \"rabbit\"]\n",
        "for i in range(len(animals)): #range(start, stop, step) range(3, 7, 2)\n",
        "    print(f\"Animal at index {i} is {animals[i]}\")"
      ],
      "metadata": {
        "colab": {
          "base_uri": "https://localhost:8080/"
        },
        "collapsed": true,
        "id": "6qyGL6fhxWE9",
        "outputId": "56806e2e-b719-4100-a5b3-20f06336d855"
      },
      "execution_count": null,
      "outputs": [
        {
          "output_type": "stream",
          "name": "stdout",
          "text": [
            "Animal at index 0 is cat\n",
            "Animal at index 1 is dog\n",
            "Animal at index 2 is rabbit\n"
          ]
        }
      ]
    },
    {
      "cell_type": "markdown",
      "source": [
        "- A better approach to get both the index and value is using `enumerate()`."
      ],
      "metadata": {
        "id": "6c8rpNXw7_uf"
      }
    },
    {
      "cell_type": "code",
      "source": [
        "cities = [\"New York\", \"London\", \"Tokyo\"]\n",
        "\n",
        "for index, city in enumerate(cities):\n",
        "    print(f\"{index}: {city}\")"
      ],
      "metadata": {
        "colab": {
          "base_uri": "https://localhost:8080/"
        },
        "id": "DOr0QKGF8Dnp",
        "outputId": "f97081da-8cb4-4d4b-bf1f-fc005a77e5e9"
      },
      "execution_count": null,
      "outputs": [
        {
          "output_type": "stream",
          "name": "stdout",
          "text": [
            "0: New York\n",
            "1: London\n",
            "2: Tokyo\n"
          ]
        }
      ]
    },
    {
      "cell_type": "markdown",
      "source": [
        "**Membership Operators in List:**\n",
        "\n",
        "Membership operators are used to check whether a specific element exists in a list.\n",
        "\n",
        "- `in` → Returns True if the element is present in the list.\n",
        "\n",
        "- `not in` → Returns True if the element is not present in the list."
      ],
      "metadata": {
        "id": "mgSCkUWPwffc"
      }
    },
    {
      "cell_type": "code",
      "source": [
        "list3 = [\"Tayyaba\", 10, True, 5.3, \"Rafia\", \"Noor\"]\n",
        "print(5.3 in list3)\n",
        "print(\"T\" in list3)\n",
        "\n",
        "print(3 not in list3)\n",
        "print(\"Noor\" not in list3)"
      ],
      "metadata": {
        "colab": {
          "base_uri": "https://localhost:8080/"
        },
        "id": "s9tJNO1vwuEi",
        "outputId": "e9711d72-a272-497d-9d06-575d985fc3cc"
      },
      "execution_count": null,
      "outputs": [
        {
          "output_type": "stream",
          "name": "stdout",
          "text": [
            "True\n",
            "False\n",
            "True\n",
            "False\n"
          ]
        }
      ]
    },
    {
      "cell_type": "markdown",
      "source": [
        "**Change List Items:**\n",
        "\n",
        "In Python, lists are mutable, meaning their elements can be modified after creation.\n",
        "\n",
        "- You can directly modify a list item by referring to its index.\n",
        "\n",
        "- You can update multiple elements at once using slicing. For this, define a list with the new values, and refer to the range of index numbers where you want to insert the new values."
      ],
      "metadata": {
        "id": "DJ6k8xBixTT_"
      }
    },
    {
      "cell_type": "code",
      "source": [
        "fruits = [\"apple\", \"banana\", \"cherry\", \"mango\", \"berries\"]\n",
        "print (fruits)\n",
        "fruits[1] = 200\n",
        "print(fruits)"
      ],
      "metadata": {
        "colab": {
          "base_uri": "https://localhost:8080/"
        },
        "id": "RuQooQ5FNTjD",
        "outputId": "87220046-c944-4bca-8a3c-b67fc60f30ca"
      },
      "execution_count": null,
      "outputs": [
        {
          "output_type": "stream",
          "name": "stdout",
          "text": [
            "['apple', 'banana', 'cherry', 'mango', 'berries']\n",
            "['apple', 200, 'cherry', 'mango', 'berries']\n"
          ]
        }
      ]
    },
    {
      "cell_type": "code",
      "source": [
        "list2 = [\"Tayyaba\", 1500, False, 15.3, \"Python\"]\n",
        "list2[2:4] = [\"Programmer\", True]\n",
        "print(list2)"
      ],
      "metadata": {
        "colab": {
          "base_uri": "https://localhost:8080/"
        },
        "id": "k1vnYbaTxY8w",
        "outputId": "6a60953a-1de5-4ddf-95f6-c7e3e70966d5"
      },
      "execution_count": null,
      "outputs": [
        {
          "output_type": "stream",
          "name": "stdout",
          "text": [
            "['Tayyaba', 1500, 'Programmer', True, 'Python']\n"
          ]
        }
      ]
    },
    {
      "cell_type": "code",
      "source": [
        "weather = [\"summer\", \"winter\", \"spring\", \"autumn\"]\n",
        "weather[0:3] = [\"rainy\"]\n",
        "print(weather)"
      ],
      "metadata": {
        "colab": {
          "base_uri": "https://localhost:8080/"
        },
        "id": "z1RMUvV7OTk9",
        "outputId": "e6762679-bc5d-48bb-d901-33d8febac17e"
      },
      "execution_count": null,
      "outputs": [
        {
          "output_type": "stream",
          "name": "stdout",
          "text": [
            "['rainy', 'autumn']\n"
          ]
        }
      ]
    },
    {
      "cell_type": "markdown",
      "source": [
        "**Add List Items & Join Lists:**\n",
        "\n",
        "There are several ways to add elements to a list;\n",
        "\n",
        "- `append()` method adds a single element to the end of the list.\n",
        "- `insert(index, value)` method adds an element at a specific position.\n",
        "- `extend()` method adds multiple elements from another list or iterable.\n",
        "- List Concatenation: Multiple lists can be combined using the `+` operator."
      ],
      "metadata": {
        "id": "fqZKDV_NyICq"
      }
    },
    {
      "cell_type": "code",
      "source": [
        "#append\n",
        "students = [\"Alice\", \"Bob\", \"Charlie\", \"David\", \"Elif\"]\n",
        "students.append(\"Fred\")\n",
        "print(students)\n",
        "\n",
        "#appending each item using for loop\n",
        "x = [\"apple\", \"Banana\", \"orange\", \"Apricot\"]\n",
        "y = [\"apple\", \"5\", \"Winter\", \"4.0\"]\n",
        "for i in y:\n",
        "  x.append(i)\n",
        "print(x)"
      ],
      "metadata": {
        "colab": {
          "base_uri": "https://localhost:8080/"
        },
        "id": "enJZ2bkEyM5x",
        "outputId": "340cb199-5313-4fe4-f032-dd358fcbdb64"
      },
      "execution_count": null,
      "outputs": [
        {
          "output_type": "stream",
          "name": "stdout",
          "text": [
            "['Alice', 'Bob', 'Charlie', 'David', 'Elif', 'Fred']\n",
            "['apple', 'Banana', 'orange', 'Apricot', 'apple', '5', 'Winter', '4.0']\n"
          ]
        }
      ]
    },
    {
      "cell_type": "code",
      "source": [
        "#insert(index, value)\n",
        "tasks = [\"Do Laundry\", \"Complete Assignment\", \"Buy Groceries\"]\n",
        "tasks.insert(0, \"Pay Bills\")\n",
        "print(tasks)\n",
        "\n",
        "scores = [50, 60, 80, 90]\n",
        "scores.insert(2, 70)\n",
        "print(scores)"
      ],
      "metadata": {
        "colab": {
          "base_uri": "https://localhost:8080/"
        },
        "id": "0gXx6iA5y-bT",
        "outputId": "6aa5e230-8a7c-488f-a0da-366a29755acb"
      },
      "execution_count": null,
      "outputs": [
        {
          "output_type": "stream",
          "name": "stdout",
          "text": [
            "['Pay Bills', 'Do Laundry', 'Complete Assignment', 'Buy Groceries']\n",
            "[50, 60, 70, 80, 90]\n"
          ]
        }
      ]
    },
    {
      "cell_type": "code",
      "source": [
        "#extend()\n",
        "existing_customers = [\"Ainee\", \"Babar\", \"Charlie\"]\n",
        "new_customers = [\"Dawood\", \"Faryal\", \"Esha\"]\n",
        "existing_customers.extend(new_customers)\n",
        "print(existing_customers)\n",
        "print (new_customers)\n",
        "\n",
        "#other iterable\n",
        "letters = ['A', 'B', 'C']\n",
        "letters.extend(\"XYZ\")\n",
        "print(letters)"
      ],
      "metadata": {
        "colab": {
          "base_uri": "https://localhost:8080/"
        },
        "id": "Ps_2mPn1zb1U",
        "outputId": "1cef74bc-59f3-4c2a-a911-bd25a080f389"
      },
      "execution_count": null,
      "outputs": [
        {
          "output_type": "stream",
          "name": "stdout",
          "text": [
            "['Ainee', 'Babar', 'Charlie', 'Dawood', 'Faryal', 'Esha']\n",
            "['Dawood', 'Faryal', 'Esha']\n",
            "['A', 'B', 'C', 'X', 'Y', 'Z']\n"
          ]
        }
      ]
    },
    {
      "cell_type": "code",
      "source": [
        "#list concatenation\n",
        "g1 = [\"Milk\", \"Eggs\"]\n",
        "g2 = [\"Bread\", \"Butter\"]\n",
        "g3 = [\"Juice\", \"Fruits\"]\n",
        "full_list = g1 + g2 + g3\n",
        "print(full_list)\n",
        "print(g1)\n",
        "s1 = \"Izzah\"\n",
        "s2 = \"Khursheed\"\n",
        "print (s1+s2)\n",
        "# employee_1 = [\"John (Manager)\", 5000]\n",
        "# employee_2 = [\"Emma (Developer)\", 4000]\n",
        "# employee_3 = [\"Ryan (Designer)\", 4500]\n",
        "# all_employees = employee_1 + employee_2 + employee_3\n",
        "# print(all_employees)"
      ],
      "metadata": {
        "colab": {
          "base_uri": "https://localhost:8080/"
        },
        "id": "B1Vs9gJmSuYI",
        "outputId": "b084e782-37d6-4165-9933-1f43590f7248"
      },
      "execution_count": null,
      "outputs": [
        {
          "output_type": "stream",
          "name": "stdout",
          "text": [
            "['Milk', 'Eggs', 'Bread', 'Butter', 'Juice', 'Fruits']\n",
            "['Milk', 'Eggs']\n",
            "IzzahKhursheed\n"
          ]
        }
      ]
    },
    {
      "cell_type": "markdown",
      "source": [
        "**Remove List Items:**\n",
        "\n",
        "There are multiple ways to remove elements from a list;\n",
        "\n",
        "- `remove(value)`: It remove First Occurrence of the specified value.\n",
        "\n",
        "- `pop(index)`: Removes an element at a given index and returns it.\n",
        "If no index is specified, it removes the last item.\n",
        "\n",
        "- `del` Statement: Deletes item by index or delete the entire list, permanently removes items or list from memory.\n",
        "\n",
        "- `clear()`: Clears all elements from the list, leaving an empty list.\n"
      ],
      "metadata": {
        "id": "4PRS6TG20Gg5"
      }
    },
    {
      "cell_type": "code",
      "source": [
        "#remove(value)\n",
        "items = [\"Tayyaba\", 10, True, 5.3, \"Summer\", 2, \"Summer\"]\n",
        "items.remove(\"Summer\")\n",
        "print(items)"
      ],
      "metadata": {
        "id": "l-gQCLK-0c1U"
      },
      "execution_count": null,
      "outputs": []
    },
    {
      "cell_type": "code",
      "source": [
        "#pop(index)\n",
        "numbers = [10, 20, 30, 40, 50, 60]\n",
        "numbers.pop(2)\n",
        "numbers.pop()\n",
        "print(numbers)"
      ],
      "metadata": {
        "colab": {
          "base_uri": "https://localhost:8080/"
        },
        "id": "031xBfm31BPD",
        "outputId": "ea8523d2-74db-4af4-85d8-e957e90821cf",
        "collapsed": true
      },
      "execution_count": null,
      "outputs": [
        {
          "output_type": "execute_result",
          "data": {
            "text/plain": [
              "60"
            ]
          },
          "metadata": {},
          "execution_count": 16
        }
      ]
    },
    {
      "cell_type": "code",
      "source": [
        "#del\n",
        "colors = [\"red\", \"green\", \"blue\", \"yellow\", \"black\"]\n",
        "del colors[2]\n",
        "print(colors)\n",
        "\n",
        "numbers = [1.0, 2.0, 3.0, 4.0, 5.0, 6.0, 7.0]\n",
        "del numbers[2:5]\n",
        "print(numbers)\n",
        "\n",
        "hundreds = [100, 200, 300]\n",
        "del hundreds"
      ],
      "metadata": {
        "colab": {
          "base_uri": "https://localhost:8080/"
        },
        "id": "JQrQpJ5uYHt4",
        "outputId": "d0e8af46-1cdf-4eba-9704-2b9e2213c856"
      },
      "execution_count": null,
      "outputs": [
        {
          "output_type": "stream",
          "name": "stdout",
          "text": [
            "['red', 'green', 'yellow', 'black']\n",
            "[1.0, 2.0, 6.0, 7.0]\n"
          ]
        }
      ]
    },
    {
      "cell_type": "code",
      "source": [
        "#clear()\n",
        "l = [\"Tayyaba\",10,True,5.3,\"Summer\",2,\"cool\",\"Bread\"]\n",
        "l.clear()\n",
        "print(l)"
      ],
      "metadata": {
        "colab": {
          "base_uri": "https://localhost:8080/"
        },
        "id": "UJ2FShZV14da",
        "outputId": "e1d4c4a6-7f92-441e-c11f-1a33866309c8",
        "collapsed": true
      },
      "execution_count": null,
      "outputs": [
        {
          "output_type": "stream",
          "name": "stdout",
          "text": [
            "[]\n"
          ]
        }
      ]
    },
    {
      "cell_type": "markdown",
      "source": [
        "**Sort List:**"
      ],
      "metadata": {
        "id": "MGX4RV2s3vNs"
      }
    },
    {
      "cell_type": "markdown",
      "source": [
        "**1- Using** `sort( )`**:**\n",
        "\n",
        "- Modifies the original list, In-Place sorting.\n",
        "\n",
        "- By default, it sorts in ascending order.\n",
        "\n",
        "- Use `reverse=True` for descending order.\n",
        "\n",
        "- Works for both numbers and strings."
      ],
      "metadata": {
        "id": "49tikLZhcRQ0"
      }
    },
    {
      "cell_type": "code",
      "source": [
        "#ascending order\n",
        "n = [50, 25, 90, 45, 10, 85, 70, 30, 65]\n",
        "n.sort()\n",
        "print(n)\n",
        "\n",
        "#descending order\n",
        "n.sort(reverse=True)\n",
        "print(n)"
      ],
      "metadata": {
        "colab": {
          "base_uri": "https://localhost:8080/"
        },
        "id": "QuD2TDmscQ8_",
        "outputId": "1f42d6db-9aa1-4f8d-ab61-9e79635dbf06"
      },
      "execution_count": null,
      "outputs": [
        {
          "output_type": "stream",
          "name": "stdout",
          "text": [
            "[10, 25, 30, 45, 50, 65, 70, 85, 90]\n",
            "[10, 25, 30, 45, 50, 65, 70, 85, 90]\n"
          ]
        }
      ]
    },
    {
      "cell_type": "code",
      "source": [
        "S = [\"summer\", \"Winter\",\"Autumn\",\"@\",\"#\",\"54\",\"65\",\"87\",\"1\",\"2\",\"34\",\"Charg\",\"capital\",\"world\", \"Sorting\", \"ali\"]\n",
        "S.sort()\n",
        "print(S)\n",
        "\n",
        "S.sort(reverse = True)\n",
        "print(S)"
      ],
      "metadata": {
        "colab": {
          "base_uri": "https://localhost:8080/"
        },
        "id": "W95YX2EE3yx2",
        "outputId": "21176cc3-0891-4376-e127-a85395b08313"
      },
      "execution_count": null,
      "outputs": [
        {
          "output_type": "stream",
          "name": "stdout",
          "text": [
            "['#', '1', '2', '34', '54', '65', '87', '@', 'Autumn', 'Charg', 'Sorting', 'Winter', 'ali', 'capital', 'summer', 'world']\n",
            "['world', 'summer', 'capital', 'ali', 'Winter', 'Sorting', 'Charg', 'Autumn', '@', '87', '65', '54', '34', '2', '1', '#']\n"
          ]
        }
      ]
    },
    {
      "cell_type": "markdown",
      "source": [
        "**2- Using** `sorted()`**:**\n",
        "\n",
        "- Does not modify the original list.\n",
        "\n",
        "- Returns a new sorted list."
      ],
      "metadata": {
        "id": "lPdHzhUSec34"
      }
    },
    {
      "cell_type": "code",
      "source": [
        "numbers = [8, 3, 6, 2, 5, 9, 1, 4, 7]\n",
        "sorted_numbers = sorted(numbers)\n",
        "print(sorted_numbers)\n",
        "print (numbers)\n",
        "\n",
        "desc_sorted = sorted(numbers, reverse=True)\n",
        "print(desc_sorted)\n",
        "\n",
        "print(numbers)"
      ],
      "metadata": {
        "colab": {
          "base_uri": "https://localhost:8080/"
        },
        "id": "axEcvHyNeret",
        "outputId": "914d4212-6afb-4fd1-b55a-c88abb5b530d"
      },
      "execution_count": null,
      "outputs": [
        {
          "output_type": "stream",
          "name": "stdout",
          "text": [
            "[1, 2, 3, 4, 5, 6, 7, 8, 9]\n",
            "[8, 3, 6, 2, 5, 9, 1, 4, 7]\n",
            "[9, 8, 7, 6, 5, 4, 3, 2, 1]\n",
            "[8, 3, 6, 2, 5, 9, 1, 4, 7]\n"
          ]
        }
      ]
    },
    {
      "cell_type": "markdown",
      "source": [
        "**3- Using** `key` **Parameter:**\n",
        "\n",
        "- You can use a function to define a custom sorting order.\n",
        "\n",
        "- `str.lower` converts all string elements of list to lowercase before sorting.\n",
        "\n",
        "- `len` sorts based on string length\n",
        "\n",
        "- `str.upper` converts all strings to uppercase before sorting."
      ],
      "metadata": {
        "id": "ldkMtlbFfQbI"
      }
    },
    {
      "cell_type": "code",
      "source": [
        "w = [\"summer\", \"winter\", \"spring\", \"autumn\", \"rainy\"]\n",
        "w.sort(key = str.lower)\n",
        "print(w)\n",
        "\n",
        "words = [\"apple\", \"Strawberry\", \"kiwi\", \"cherry\"]\n",
        "words.sort(key = len)\n",
        "print(words)"
      ],
      "metadata": {
        "colab": {
          "base_uri": "https://localhost:8080/"
        },
        "id": "dezXsVvJ4sxf",
        "outputId": "e0664776-2622-476f-e585-71f9bf588dfd"
      },
      "execution_count": null,
      "outputs": [
        {
          "output_type": "stream",
          "name": "stdout",
          "text": [
            "['autumn', 'Rainy', 'Spring', 'summer', 'winter']\n",
            "['kiwi', 'apple', 'cherry', 'Strawberry']\n"
          ]
        }
      ]
    },
    {
      "cell_type": "markdown",
      "source": [
        "**Copy List:**\n",
        "\n",
        "When copying a list, using `list2 = list1` does not create a new list, but instead makes `list2` a reference to `list1`. Any modification in `list1` will affect `list2`, as they share the same memory reference.\n",
        "\n"
      ],
      "metadata": {
        "id": "E4OGt3ww64AJ"
      }
    },
    {
      "cell_type": "code",
      "source": [
        "list5 = [\"apple\", \"Banana\", \"orange\", \"Apricot\"]\n",
        "list6 = list5\n",
        "# print(list5)\n",
        "# print(list6)\n",
        "\n",
        "# print(id(list5))\n",
        "# print(id(list6))\n",
        "\n",
        "list5.append(\"Hello\")\n",
        "\n",
        "print(list5)\n",
        "print(list6)"
      ],
      "metadata": {
        "colab": {
          "base_uri": "https://localhost:8080/"
        },
        "id": "vRb0vJdf67bu",
        "outputId": "7dfb4314-cfe4-45e0-b9a6-8b49784a171d"
      },
      "execution_count": null,
      "outputs": [
        {
          "output_type": "stream",
          "name": "stdout",
          "text": [
            "['apple', 'Banana', 'orange', 'Apricot', 'Hello']\n",
            "['apple', 'Banana', 'orange', 'Apricot', 'Hello']\n"
          ]
        }
      ]
    },
    {
      "cell_type": "markdown",
      "source": [
        "**1- Using** `copy()` **Method:**\n",
        "\n",
        "- The `copy()` method creates a new independent list.\n",
        "\n",
        "- Changes in the copied list do not affect the original list."
      ],
      "metadata": {
        "id": "zzMrch-WkjZP"
      }
    },
    {
      "cell_type": "code",
      "source": [
        "list1 = [\"Tayyaba\", 10, False, 5.3, \"Summer\", 500, \"cool\"]\n",
        "copy1 = list1.copy()\n",
        "print(copy1)\n",
        "\n",
        "print(id(list1))\n",
        "print(id(copy1))\n",
        "\n",
        "list1.append(\"Programmer\")\n",
        "copy1.remove(500)\n",
        "\n",
        "print(list1)\n",
        "print(copy1)"
      ],
      "metadata": {
        "colab": {
          "base_uri": "https://localhost:8080/"
        },
        "id": "d84PEUgH9gv-",
        "outputId": "ccbcd345-6fac-41ec-e76e-d37638d92226",
        "collapsed": true
      },
      "execution_count": null,
      "outputs": [
        {
          "output_type": "stream",
          "name": "stdout",
          "text": [
            "['Tayyaba', 10, False, 5.3, 'Summer', 500, 'cool']\n",
            "137992012374528\n",
            "137992013804672\n",
            "['Tayyaba', 10, False, 5.3, 'Summer', 500, 'cool', 'Programmer']\n",
            "['Tayyaba', 10, False, 5.3, 'Summer', 'cool']\n"
          ]
        }
      ]
    },
    {
      "cell_type": "markdown",
      "source": [
        "**2- Using Slicing** `[:]`**:**\n",
        "\n",
        "- The fastest method for simple list copying.\n",
        "\n",
        "- Returns a new list containing all elements of the original."
      ],
      "metadata": {
        "id": "QUVkyOHOmGYk"
      }
    },
    {
      "cell_type": "code",
      "source": [
        "o = [1, 2, 3]\n",
        "t = o[:]\n",
        "print(t)\n",
        "print(id(o))\n",
        "print(id(t))\n",
        "\n",
        "o.pop()\n",
        "t.append(4)\n",
        "print(o)\n",
        "print(t)"
      ],
      "metadata": {
        "colab": {
          "base_uri": "https://localhost:8080/"
        },
        "id": "TgIOdRiXmoJJ",
        "outputId": "3fb65c5b-0f5b-43cf-fe7e-f5913705a2c0"
      },
      "execution_count": null,
      "outputs": [
        {
          "output_type": "stream",
          "name": "stdout",
          "text": [
            "[1, 2, 3]\n",
            "137992012420608\n",
            "137992012424576\n",
            "[1, 2]\n",
            "[1, 2, 3, 4]\n"
          ]
        }
      ]
    },
    {
      "cell_type": "markdown",
      "source": [
        "**Some More Built-in Methods for Lists**"
      ],
      "metadata": {
        "id": "sTSqtwMnnp8b"
      }
    },
    {
      "cell_type": "markdown",
      "source": [
        "**Count():**\n",
        "\n",
        "- Counts the number of occurrences of a specified element in a list.\n",
        "\n",
        "- Useful for counting duplicate elements in a list.\n",
        "\n",
        "- `list_name.count(value)`\n"
      ],
      "metadata": {
        "id": "SPRWwFToAxUZ"
      }
    },
    {
      "cell_type": "code",
      "source": [
        "x = [\"apple\", \"Banana\",4, \"orange\", \"Apricot\",4]\n",
        "print(x.count(\"apple\"))"
      ],
      "metadata": {
        "colab": {
          "base_uri": "https://localhost:8080/"
        },
        "id": "pti0Sae6A1Ff",
        "outputId": "f1f7e3bf-5d1c-4d11-e344-276b2fe56412"
      },
      "execution_count": null,
      "outputs": [
        {
          "output_type": "stream",
          "name": "stdout",
          "text": [
            "1\n"
          ]
        }
      ]
    },
    {
      "cell_type": "markdown",
      "source": [
        "**Index():**\n",
        "\n",
        "- Finds the first occurrence index of a specified value in the list.\n",
        "\n",
        "- `list_name.index(value, start, end)`\n",
        "\n",
        "- value → Element to find.\n",
        "\n",
        "- start(optional) → Search from this index.\n",
        "\n",
        "- end(optional) → Search up to this index.\n"
      ],
      "metadata": {
        "id": "A0OlWCWYBChB"
      }
    },
    {
      "cell_type": "code",
      "source": [
        "x = [\"apple\", \"orange\", \"Banana\", 4, \"orange\", \"Apricot\", 4, \"apple\", \"orange\"]\n",
        "print(x.index(\"apple\"))\n",
        "print(x.index(4))\n",
        "print(x.index(\"orange\", 7))"
      ],
      "metadata": {
        "colab": {
          "base_uri": "https://localhost:8080/"
        },
        "id": "gKNV7DoIBFSE",
        "outputId": "09914ec4-99a1-4e60-a867-98d114d3cd18"
      },
      "execution_count": null,
      "outputs": [
        {
          "output_type": "stream",
          "name": "stdout",
          "text": [
            "0\n",
            "3\n",
            "8\n"
          ]
        }
      ]
    },
    {
      "cell_type": "markdown",
      "source": [
        "**reverse():**\n",
        "\n",
        "- Reverses the order of elements in the list in-place.\n",
        "\n",
        "- Does not return a new list."
      ],
      "metadata": {
        "id": "UWpVgmrOC9g5"
      }
    },
    {
      "cell_type": "code",
      "source": [
        "x = [\"apple\", \"Banana\",4, \"orange\", \"Apricot\", 4]\n",
        "x.reverse()\n",
        "print(x)\n",
        "\n",
        "#using slicing -- alternative method\n",
        "y = [1, 2, 3, 4, 5]\n",
        "reversed = y[::-1]\n",
        "print(reversed)"
      ],
      "metadata": {
        "colab": {
          "base_uri": "https://localhost:8080/"
        },
        "id": "_v1z0YONCwZe",
        "outputId": "1e69442d-8c7c-422d-dbc2-c34d2a19f61a"
      },
      "execution_count": null,
      "outputs": [
        {
          "output_type": "stream",
          "name": "stdout",
          "text": [
            "[4, 'Apricot', 'orange', 4, 'Banana', 'apple']\n",
            "[5, 4, 3, 2, 1]\n"
          ]
        }
      ]
    },
    {
      "cell_type": "markdown",
      "source": [
        "**Nested List:**\n",
        "\n",
        "- If there is a sublist within a list, it is known as nested list.\n",
        "\n",
        "- A nested list is a list that contains other lists as its elements."
      ],
      "metadata": {
        "id": "58OWM01epABM"
      }
    },
    {
      "cell_type": "code",
      "source": [
        "student = [\"Name\" , \"Ali\" , \"Marks\" , [54,89, [1, 2, 3],76,34] , [\"Pass\", \"Fail\"]]\n",
        "print(student[3])\n",
        "print(student[3][2][1])"
      ],
      "metadata": {
        "colab": {
          "base_uri": "https://localhost:8080/"
        },
        "collapsed": true,
        "id": "61tS-dQvpGQE",
        "outputId": "f48deab1-839f-49ab-c13b-c6651913cd2e"
      },
      "execution_count": null,
      "outputs": [
        {
          "output_type": "stream",
          "name": "stdout",
          "text": [
            "[54, 89, [1, 2, 3], 76, 34]\n",
            "2\n"
          ]
        }
      ]
    },
    {
      "cell_type": "code",
      "source": [
        "num = [[1, 2, 3], [4, 5, 6], [7, 8, 9]]\n",
        "\n",
        "print(num)\n",
        "print(num[0])\n",
        "print(num[1][2])\n",
        "print(num[2][1])"
      ],
      "metadata": {
        "colab": {
          "base_uri": "https://localhost:8080/"
        },
        "id": "7WvHe_H-qpTa",
        "outputId": "d845df11-138d-4716-95c8-d5b97d67b42d"
      },
      "execution_count": null,
      "outputs": [
        {
          "output_type": "stream",
          "name": "stdout",
          "text": [
            "[[1, 2, 3], [4, 5, 6], [7, 8, 9]]\n",
            "[1, 2, 3]\n",
            "6\n",
            "8\n"
          ]
        }
      ]
    },
    {
      "cell_type": "markdown",
      "source": [
        "**List Comprehension:**\n",
        "\n",
        "- List comprehension is a concise way to create lists using a single line of code, rather than using traditional loop.\n",
        "- It is faster and more readable.\n",
        "\n",
        "`new_list = [expression for item in iterable if condition]`\n",
        "\n",
        "- expression → Operation or transformation applied to item\n",
        "- item → Element from the iterable (list, range, etc.)\n",
        "- condition (optional) → Filters elements based on a condition\n"
      ],
      "metadata": {
        "id": "oOOFb6q4rEv9"
      }
    },
    {
      "cell_type": "code",
      "source": [
        "squares = [x**2 for x in range(5)]\n",
        "print(squares)"
      ],
      "metadata": {
        "colab": {
          "base_uri": "https://localhost:8080/"
        },
        "id": "UuH_CppsqqIN",
        "outputId": "c245228e-78f4-46d9-deb9-a33610f4ae4e"
      },
      "execution_count": null,
      "outputs": [
        {
          "output_type": "stream",
          "name": "stdout",
          "text": [
            "[0, 1, 4, 9, 16]\n"
          ]
        }
      ]
    },
    {
      "cell_type": "code",
      "source": [
        "fruits = [\"apple\", \"banana\", \"cherry\", \"mango\", \"apricort\", \"berries\"]\n",
        "new_list = [x for x in fruits if \"a\" in x]\n",
        "print(new_list)"
      ],
      "metadata": {
        "colab": {
          "base_uri": "https://localhost:8080/"
        },
        "id": "2ed9WKACr54e",
        "outputId": "df7af73f-0716-48f5-a7f9-432634cc2fd5"
      },
      "execution_count": null,
      "outputs": [
        {
          "output_type": "stream",
          "name": "stdout",
          "text": [
            "['apple', 'banana', 'mango', 'apricort']\n"
          ]
        }
      ]
    },
    {
      "cell_type": "code",
      "source": [
        "help(print)"
      ],
      "metadata": {
        "colab": {
          "base_uri": "https://localhost:8080/"
        },
        "id": "WFdUlnQGdsIg",
        "outputId": "2cbb4f29-266d-4b2a-9d66-53f7430802ea"
      },
      "execution_count": null,
      "outputs": [
        {
          "output_type": "stream",
          "name": "stdout",
          "text": [
            "Help on built-in function print in module builtins:\n",
            "\n",
            "print(*args, sep=' ', end='\\n', file=None, flush=False)\n",
            "    Prints the values to a stream, or to sys.stdout by default.\n",
            "    \n",
            "    sep\n",
            "      string inserted between values, default a space.\n",
            "    end\n",
            "      string appended after the last value, default a newline.\n",
            "    file\n",
            "      a file-like object (stream); defaults to the current sys.stdout.\n",
            "    flush\n",
            "      whether to forcibly flush the stream.\n",
            "\n"
          ]
        }
      ]
    }
  ]
}