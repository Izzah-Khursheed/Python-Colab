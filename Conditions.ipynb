{
  "nbformat": 4,
  "nbformat_minor": 0,
  "metadata": {
    "colab": {
      "provenance": [],
      "include_colab_link": true
    },
    "kernelspec": {
      "name": "python3",
      "display_name": "Python 3"
    },
    "language_info": {
      "name": "python"
    }
  },
  "cells": [
    {
      "cell_type": "markdown",
      "metadata": {
        "id": "view-in-github",
        "colab_type": "text"
      },
      "source": [
        "<a href=\"https://colab.research.google.com/github/Izzah-Khursheed/Python-Colab/blob/main/Conditions.ipynb\" target=\"_parent\"><img src=\"https://colab.research.google.com/assets/colab-badge.svg\" alt=\"Open In Colab\"/></a>"
      ]
    },
    {
      "cell_type": "markdown",
      "source": [
        "**Conditions:**\n",
        "\n",
        "In programming, conditions are **rules** that help computers **make decisions** based on **user input** or data.\n",
        "\n",
        "They help the computer decide whether to **execute** a block of code or **skip** it based on whether the condition is **true** or **false**.\n",
        "\n",
        "Conditions often involve **comparison operators** (==, >, <, !=, <=, >=) and **logical operators** (and, or, not) to evaluate expressions."
      ],
      "metadata": {
        "id": "D6pPCBRguDHC"
      }
    },
    {
      "cell_type": "markdown",
      "source": [
        "**Key Condition Statements**\n",
        "\n",
        "*   if statement\n",
        "\n",
        "*   elif statement\n",
        "\n",
        "*   else statement\n",
        "\n"
      ],
      "metadata": {
        "id": "k7wu0782qaLz"
      }
    },
    {
      "cell_type": "markdown",
      "source": [
        "**if statement**\n",
        "\n",
        "It checks a condition.If the **condition** is **true**, the **code** inside the block will **run**."
      ],
      "metadata": {
        "id": "N3i6II0dspkY"
      }
    },
    {
      "cell_type": "code",
      "execution_count": null,
      "metadata": {
        "id": "jDbKR911s55s"
      },
      "outputs": [],
      "source": [
        "age = 10\n",
        "if age >= 18:\n",
        "    print(\"You are an adult!\")"
      ]
    },
    {
      "cell_type": "markdown",
      "source": [
        "**Indentation:**\n",
        "\n",
        "Indentation means **adding spaces** at the **beginning** of a **line of code** to show its structure and organization.\n",
        "\n",
        "It helps make the code easier to read and understand.\n",
        "\n",
        "**Tips:**\n",
        "\n",
        "*   Use **4 spaces** or **1 tab** for indentation in Python.\n",
        "*   Always be consistent; **mixing tabs and spaces** can cause **errors**.\n",
        "\n"
      ],
      "metadata": {
        "id": "8AgdzHcEtaGx"
      }
    },
    {
      "cell_type": "code",
      "source": [
        "age = 18\n",
        "if age >= 18:\n",
        "print(\"You are an adult!\") #Without indentation\n"
      ],
      "metadata": {
        "id": "-P-nexEguFux",
        "colab": {
          "base_uri": "https://localhost:8080/",
          "height": 106
        },
        "outputId": "21668de7-69c9-4940-d39f-df117ca4ed37"
      },
      "execution_count": null,
      "outputs": [
        {
          "output_type": "error",
          "ename": "IndentationError",
          "evalue": "expected an indented block after 'if' statement on line 2 (<ipython-input-19-6dfc4cfd60cc>, line 3)",
          "traceback": [
            "\u001b[0;36m  File \u001b[0;32m\"<ipython-input-19-6dfc4cfd60cc>\"\u001b[0;36m, line \u001b[0;32m3\u001b[0m\n\u001b[0;31m    print(\"You are an adult!\") #Without indentation\u001b[0m\n\u001b[0m    ^\u001b[0m\n\u001b[0;31mIndentationError\u001b[0m\u001b[0;31m:\u001b[0m expected an indented block after 'if' statement on line 2\n"
          ]
        }
      ]
    },
    {
      "cell_type": "code",
      "source": [
        "age = 18\n",
        "if age >= 18:\n",
        "    print(\"You are an adult!\") #Correct Indentation"
      ],
      "metadata": {
        "id": "M1aN5MynuxhS",
        "colab": {
          "base_uri": "https://localhost:8080/"
        },
        "outputId": "52d84db7-db29-4cca-f878-b08c6635b24d"
      },
      "execution_count": null,
      "outputs": [
        {
          "output_type": "stream",
          "name": "stdout",
          "text": [
            "You are an adult!\n"
          ]
        }
      ]
    },
    {
      "cell_type": "markdown",
      "source": [
        "**elif statement**\n",
        "\n",
        "It checks **another condition** if the first one is false."
      ],
      "metadata": {
        "id": "Mcskt4DPvaZ2"
      }
    },
    {
      "cell_type": "code",
      "source": [
        "age = 16\n",
        "if age >= 18:\n",
        "    print(\"You are an adult!\")\n",
        "elif age >= 13:\n",
        "    print(\"You are a teenager!\")\n"
      ],
      "metadata": {
        "colab": {
          "base_uri": "https://localhost:8080/"
        },
        "id": "lkLOdU_YvTBB",
        "outputId": "c2e54667-5a5b-4e2f-ec73-6d44ba792024"
      },
      "execution_count": null,
      "outputs": [
        {
          "output_type": "stream",
          "name": "stdout",
          "text": [
            "You are a teenager!\n"
          ]
        }
      ]
    },
    {
      "cell_type": "markdown",
      "source": [
        "**else statement**\n",
        "\n",
        "If none of the conditions are true, this block runs."
      ],
      "metadata": {
        "id": "9eWN0sdtv5Dk"
      }
    },
    {
      "cell_type": "code",
      "source": [
        "age = 10\n",
        "if age >= 18:\n",
        "    print(\"You are an adult!\")\n",
        "elif age >= 13:\n",
        "    print(\"You are a teenager!\")\n",
        "else:\n",
        "    print(\"You are a child!\")\n"
      ],
      "metadata": {
        "colab": {
          "base_uri": "https://localhost:8080/"
        },
        "id": "OCLFLdNrwCia",
        "outputId": "701eec43-b557-4156-a949-571d3a22132b"
      },
      "execution_count": null,
      "outputs": [
        {
          "output_type": "stream",
          "name": "stdout",
          "text": [
            "You are a child!\n"
          ]
        }
      ]
    },
    {
      "cell_type": "code",
      "source": [
        "a = 50\n",
        "b = 25\n",
        "if b > a:\n",
        "  print(\"b is greater than a\")\n",
        "elif a == b:\n",
        "  print(\"a and b are equal\")\n",
        "else:\n",
        "  print(\"a is greater than b\")"
      ],
      "metadata": {
        "colab": {
          "base_uri": "https://localhost:8080/"
        },
        "id": "zL0qVnrxwsE7",
        "outputId": "98ae4f9a-72e4-4199-a236-d8bda7976968"
      },
      "execution_count": null,
      "outputs": [
        {
          "output_type": "stream",
          "name": "stdout",
          "text": [
            "a is greater than b\n"
          ]
        }
      ]
    },
    {
      "cell_type": "markdown",
      "source": [
        "**Short Hand If :**\n",
        "\n",
        "If you have only **one statement** to execute, you can put it on the **same line** as the if statement."
      ],
      "metadata": {
        "id": "QaZ5cvhBx0d4"
      }
    },
    {
      "cell_type": "code",
      "source": [
        "a,b = 9,7\n",
        "if a > b: print(\"a is greater than b\")"
      ],
      "metadata": {
        "colab": {
          "base_uri": "https://localhost:8080/"
        },
        "id": "gFEPJFEbw37_",
        "outputId": "697f2d93-1d12-4e2a-d044-1914c0090afc"
      },
      "execution_count": null,
      "outputs": [
        {
          "output_type": "stream",
          "name": "stdout",
          "text": [
            "a is greater than b\n"
          ]
        }
      ]
    },
    {
      "cell_type": "code",
      "source": [
        "age = 18\n",
        "if age >= 18: print(\"You are an adult!\")"
      ],
      "metadata": {
        "colab": {
          "base_uri": "https://localhost:8080/"
        },
        "id": "R94Azj5OzJNm",
        "outputId": "f7b3983e-0b68-4044-b11a-ce0119dcd37c"
      },
      "execution_count": null,
      "outputs": [
        {
          "output_type": "stream",
          "name": "stdout",
          "text": [
            "You are an adult!\n"
          ]
        }
      ]
    },
    {
      "cell_type": "markdown",
      "source": [
        "**Short Hand if ... else :**\n",
        "\n",
        "If you have only **one statement** to execute, **one for if**, and **one for else**, you can put it all on the same line."
      ],
      "metadata": {
        "id": "CS-2kKvkzT05"
      }
    },
    {
      "cell_type": "code",
      "source": [
        "a = 2\n",
        "b = 30\n",
        "print(\"a\") if a > b else print(\"b\")"
      ],
      "metadata": {
        "colab": {
          "base_uri": "https://localhost:8080/"
        },
        "id": "Dp3g1fsFzwQz",
        "outputId": "b7c8b3c4-cab1-46c1-9956-bbf2e37158ab"
      },
      "execution_count": null,
      "outputs": [
        {
          "output_type": "stream",
          "name": "stdout",
          "text": [
            "b\n"
          ]
        }
      ]
    },
    {
      "cell_type": "code",
      "source": [
        "age = 16\n",
        "print(\"Adult\") if age >= 18 else (\"Minor\")"
      ],
      "metadata": {
        "colab": {
          "base_uri": "https://localhost:8080/",
          "height": 35
        },
        "id": "GtwBTf2L0Fdv",
        "outputId": "df34657b-88f8-4018-db28-496bea0026bd"
      },
      "execution_count": null,
      "outputs": [
        {
          "output_type": "execute_result",
          "data": {
            "text/plain": [
              "'Minor'"
            ],
            "application/vnd.google.colaboratory.intrinsic+json": {
              "type": "string"
            }
          },
          "metadata": {},
          "execution_count": 12
        }
      ]
    },
    {
      "cell_type": "code",
      "source": [
        "a = 2\n",
        "b=5\n",
        "print(\"a\") if a>b else print(\"same\") if a==b else print(\"b\")"
      ],
      "metadata": {
        "colab": {
          "base_uri": "https://localhost:8080/"
        },
        "id": "AJPn2Tub0aeK",
        "outputId": "a7b0cca5-19c6-4d48-d9b3-0eb12c162a4c"
      },
      "execution_count": null,
      "outputs": [
        {
          "output_type": "stream",
          "name": "stdout",
          "text": [
            "b\n"
          ]
        }
      ]
    },
    {
      "cell_type": "markdown",
      "source": [
        "**Logical Operators in Conditions:**\n",
        "\n",
        "Logical operators in Python help combine multiple conditions.\n",
        "\n",
        "using and, or, not"
      ],
      "metadata": {
        "id": "nDz4ncJb1I6l"
      }
    },
    {
      "cell_type": "markdown",
      "source": [
        "**AND:**\n",
        "\n",
        "The **and** keyword is a logical operator, and is used to combine conditional statements.\n",
        "\n",
        "The condition is **True only when both conditions are true**.\n"
      ],
      "metadata": {
        "id": "MWhd7Kqo1aGZ"
      }
    },
    {
      "cell_type": "markdown",
      "source": [
        "**Condition Evaluation:**\n",
        "\n",
        "If the first condition is false, the second condition is not checked (short-circuiting).\n",
        "\n",
        "If the first condition is true, the second condition is checked."
      ],
      "metadata": {
        "id": "4NrjtHzBzUTZ"
      }
    },
    {
      "cell_type": "code",
      "source": [
        "a = 200\n",
        "b = 33\n",
        "c = 500\n",
        "if a > b and c > a:\n",
        "  print(\"Both conditions are True\")"
      ],
      "metadata": {
        "colab": {
          "base_uri": "https://localhost:8080/"
        },
        "id": "vMHqTdMK2Q-m",
        "outputId": "9dd5741a-ba30-41b4-8f8e-4b29ec4bcc8a"
      },
      "execution_count": null,
      "outputs": [
        {
          "output_type": "stream",
          "name": "stdout",
          "text": [
            "Both conditions are True\n"
          ]
        }
      ]
    },
    {
      "cell_type": "markdown",
      "source": [
        "**OR:**\n",
        "\n",
        "The **or** keyword is a logical operator, and is used to combine conditional statements.\n",
        "\n",
        "The condition is **True if one or both conditions are true**."
      ],
      "metadata": {
        "id": "21tRUm512lG8"
      }
    },
    {
      "cell_type": "markdown",
      "source": [
        "**Condition Evaluation:**\n",
        "\n",
        "If the first condition is true, the second condition is not checked (short-circuiting).\n",
        "\n",
        "If the first condition is false, the second condition is checked."
      ],
      "metadata": {
        "id": "MHPPnlKOP7FF"
      }
    },
    {
      "cell_type": "code",
      "source": [
        "a = 200\n",
        "b = 33\n",
        "c = 500\n",
        "if a > b or a > c:\n",
        "  print(\"At least one of the conditions is True\")\n"
      ],
      "metadata": {
        "colab": {
          "base_uri": "https://localhost:8080/"
        },
        "id": "fQGkUpRu2z8Z",
        "outputId": "49ed1aa5-c87d-421e-d8c6-1e06b42f7762"
      },
      "execution_count": null,
      "outputs": [
        {
          "output_type": "stream",
          "name": "stdout",
          "text": [
            "At least one of the conditions is True\n"
          ]
        }
      ]
    },
    {
      "cell_type": "markdown",
      "source": [
        "**NOT:**\n",
        "\n",
        "The not keyword is a logical operator, and is used to **reverse** the result of the conditional statement.\n",
        "\n",
        "It makes a **True condition False** and a **False condition True**."
      ],
      "metadata": {
        "id": "wxj89qvR3B0Z"
      }
    },
    {
      "cell_type": "code",
      "source": [
        "a = 33\n",
        "b = 200\n",
        "if not a > b:\n",
        "  print(\"a is NOT greater than b\")"
      ],
      "metadata": {
        "colab": {
          "base_uri": "https://localhost:8080/"
        },
        "id": "9ejz_FjJ3YN6",
        "outputId": "45aba308-6382-4b88-aa6b-0230f7b33243"
      },
      "execution_count": null,
      "outputs": [
        {
          "output_type": "stream",
          "name": "stdout",
          "text": [
            "a is NOT greater than b\n"
          ]
        }
      ]
    },
    {
      "cell_type": "markdown",
      "source": [
        "**Write a program that takes three numbers as input and prints the largest number.**"
      ],
      "metadata": {
        "id": "5YoKNtJM7TSF"
      }
    },
    {
      "cell_type": "code",
      "source": [
        "num1 = int(input(\"Enter first number: \"))\n",
        "num2 = int(input(\"Enter second number: \"))\n",
        "num3 = int(input(\"Enter third number: \"))\n",
        "\n",
        "if num1 >= num2 and num1 >= num3:\n",
        "    print(\"The largest number is num1\")\n",
        "elif num2 >= num1 and num2 >= num3:\n",
        "    print(\"The largest number is num2\")\n",
        "else:\n",
        "    print(\"The largest number is num3\")"
      ],
      "metadata": {
        "id": "EX6m_mzy7pTb",
        "colab": {
          "base_uri": "https://localhost:8080/"
        },
        "outputId": "74647892-9c37-4349-d3ed-1a8f008de01c"
      },
      "execution_count": null,
      "outputs": [
        {
          "output_type": "stream",
          "name": "stdout",
          "text": [
            "Enter first number: 60\n",
            "Enter second number: 60\n",
            "Enter third number: 60\n",
            "The largest number is num1\n"
          ]
        }
      ]
    },
    {
      "cell_type": "markdown",
      "source": [
        "**Nested Conditions:**\n",
        "\n",
        "A nested condition means placing one condition (if-else statement) inside another condition.\n",
        "\n",
        "It allows checking multiple conditions for decision making in a structured way.\n"
      ],
      "metadata": {
        "id": "8j9UYQI392d2"
      }
    },
    {
      "cell_type": "markdown",
      "source": [
        "**Types of Nested Conditions:**\n",
        "\n",
        "Nested conditions can be classified into **three** main types:\n",
        "\n",
        "*   Nested if\n",
        "*   Nested if-else\n",
        "*   Nested if-elif-else"
      ],
      "metadata": {
        "id": "zuIYLDKaN7Nm"
      }
    },
    {
      "cell_type": "markdown",
      "source": [
        "**1. Nested if:**\n",
        "\n",
        "\n",
        "*   An if statement inside another if statement.\n",
        "*   The inner if block executes only if the outer if condition is True.\n",
        "\n"
      ],
      "metadata": {
        "id": "vGcSUIWwPU6t"
      }
    },
    {
      "cell_type": "code",
      "source": [
        "age = 17\n",
        "citizen = \"Yes\"\n",
        "\n",
        "if age >= 18:  # Outer if\n",
        "    print(\"You are old enough to vote.\")\n",
        "\n",
        "    if citizen == \"Yes\":  # Inner if\n",
        "        print(\"You are eligible to vote!\")"
      ],
      "metadata": {
        "id": "q6WbhZgePUjy"
      },
      "execution_count": null,
      "outputs": []
    },
    {
      "cell_type": "code",
      "source": [
        "marks = int(input(\"Enter your marks: \"))\n",
        "if marks >= 50:\n",
        "    print(\"You passed the exam.\")\n",
        "    if marks >= 90:\n",
        "        print(\"Excellent! You scored an A+.\")"
      ],
      "metadata": {
        "id": "iE1kRJaw9-6M",
        "colab": {
          "base_uri": "https://localhost:8080/"
        },
        "outputId": "5a04655b-9f6b-4cd6-aed7-d4f3f3cbf618"
      },
      "execution_count": null,
      "outputs": [
        {
          "output_type": "stream",
          "name": "stdout",
          "text": [
            "Enter your marks: 100\n",
            "You passed the exam.\n",
            "Excellent! You scored an A+.\n"
          ]
        }
      ]
    },
    {
      "cell_type": "markdown",
      "source": [
        "**2. Nested if-else:**\n",
        "\n",
        "\n",
        "*   A combination of if and else inside another if block.\n",
        "*   If the inner condition is False, it executes the inner else block.\n",
        "\n"
      ],
      "metadata": {
        "id": "ymxjAEGfQuX-"
      }
    },
    {
      "cell_type": "code",
      "source": [
        "score = 70\n",
        "\n",
        "if score >= 50:\n",
        "    print(\"You passed!\")\n",
        "    if score >= 80:\n",
        "        print(\"You got an A grade.\")\n",
        "    else:  # Nested else\n",
        "        print(\"You got a B grade.\")\n",
        "else:\n",
        "    print(\"You failed!\")"
      ],
      "metadata": {
        "id": "MLsEBFW4Q4wi",
        "colab": {
          "base_uri": "https://localhost:8080/"
        },
        "outputId": "458ccb56-15fc-4296-acf3-e4300c3a224f"
      },
      "execution_count": null,
      "outputs": [
        {
          "output_type": "stream",
          "name": "stdout",
          "text": [
            "You failed!\n"
          ]
        }
      ]
    },
    {
      "cell_type": "code",
      "source": [
        "marks = 50\n",
        "if marks >= 60:\n",
        "    print(\"You are eligible for admission.\")\n",
        "    if marks >= 80:\n",
        "        print(\"You also qualify for a scholarship.\")\n",
        "    else:\n",
        "        print(\"You do not qualify for a scholarship.\")\n",
        "else:\n",
        "    print(\"You are not eligible for admission.\")"
      ],
      "metadata": {
        "id": "nc2LdAfpQ5bd",
        "colab": {
          "base_uri": "https://localhost:8080/"
        },
        "outputId": "b337304c-56cb-4ff2-bd25-6189bf7e4997"
      },
      "execution_count": null,
      "outputs": [
        {
          "output_type": "stream",
          "name": "stdout",
          "text": [
            "You are not eligible for admission.\n",
            "You do not qualify for a scholarship.\n"
          ]
        }
      ]
    },
    {
      "cell_type": "markdown",
      "source": [
        "**3. Nested if-elif-else**\n",
        "\n",
        "\n",
        "*   Uses multiple conditions inside another if block.\n",
        "*   Includes elif statements to check multiple conditions.\n",
        "\n"
      ],
      "metadata": {
        "id": "S3ntQlHCR-V7"
      }
    },
    {
      "cell_type": "code",
      "source": [
        "speed = 50\n",
        "\n",
        "if speed > 60:\n",
        "    print(\"You are overspeeding!\")\n",
        "    if speed > 100:\n",
        "        print(\"Fine: $200\")\n",
        "    elif speed > 80:\n",
        "        print(\"Fine: $100\")\n",
        "    else:\n",
        "        print(\"Fine: $50\")\n",
        "else:\n",
        "    print(\"You are driving within the speed limit. Drive safely!\")"
      ],
      "metadata": {
        "id": "DhQaAilcSPuj",
        "colab": {
          "base_uri": "https://localhost:8080/"
        },
        "outputId": "142655a4-aa8d-488f-aa7c-41c23d571bb6"
      },
      "execution_count": null,
      "outputs": [
        {
          "output_type": "stream",
          "name": "stdout",
          "text": [
            "You are driving within the speed limit. Drive safely!\n"
          ]
        }
      ]
    },
    {
      "cell_type": "code",
      "source": [
        "age = 25\n",
        "experience = 3\n",
        "if age >= 18:\n",
        "    print(\"Eligible to apply.\")\n",
        "    if experience >= 5:\n",
        "        print(\"Senior Position.\")\n",
        "    elif experience >= 2:\n",
        "        print(\"Mid-Level Position.\")\n",
        "    else:\n",
        "        print(\"Junior Position.\")\n",
        "else:\n",
        "    print(\"Not eligible.\")"
      ],
      "metadata": {
        "id": "xhQ1O3vVS6vg"
      },
      "execution_count": null,
      "outputs": []
    },
    {
      "cell_type": "markdown",
      "source": [
        "**Why and When to Prioritize Nested Conditions Over Logical Operators:**\n",
        "\n",
        "\n",
        "*   When Conditions Depend on Each Other (If one condition must be true first before checking the second condition.).\n",
        "*   When Logical Operators Make Conditions Complex & Hard to Read.\n",
        "\n",
        "\n",
        "\n"
      ],
      "metadata": {
        "id": "TPTxLPuvTlhW"
      }
    },
    {
      "cell_type": "code",
      "source": [
        "cart_value = 150\n",
        "membership = \"Gold\"\n",
        "#cart value = 90 but has membership = gold\n",
        "\n",
        "if cart_value >= 100 and membership == \"Gold\" :\n",
        "    print(\"You get a 20% discount!\")\n",
        "elif cart_value >= 100 and membership == \"Silver\":\n",
        "    print(\"You get a 10% discount!\")\n",
        "elif cart_value >= 100:\n",
        "    print(\"No membership discount available.\")\n",
        "else:\n",
        "    print(\"No discount available.\")"
      ],
      "metadata": {
        "colab": {
          "base_uri": "https://localhost:8080/"
        },
        "id": "0cnZvTzlXXVQ",
        "outputId": "0156838a-15f5-4214-8a21-b4d7de4034b6"
      },
      "execution_count": null,
      "outputs": [
        {
          "output_type": "stream",
          "name": "stdout",
          "text": [
            "You get a 20% discount!\n"
          ]
        }
      ]
    },
    {
      "cell_type": "code",
      "source": [
        "cart_value = 150\n",
        "membership = \"Gold\"\n",
        "\n",
        "if cart_value >= 100:\n",
        "    if membership == \"Gold\":\n",
        "        print(\"You get a 20% discount!\")\n",
        "    elif membership == \"Silver\":\n",
        "        print(\"You get a 10% discount!\")\n",
        "    else:\n",
        "        print(\"No membership discount available.\")\n",
        "else:\n",
        "    print(\"No discount available.\")"
      ],
      "metadata": {
        "colab": {
          "base_uri": "https://localhost:8080/"
        },
        "id": "k5yKnG6EUoI7",
        "outputId": "84cbd94d-aeac-48af-902c-fc119a6e9459"
      },
      "execution_count": null,
      "outputs": [
        {
          "output_type": "stream",
          "name": "stdout",
          "text": [
            "You get a 20% discount!\n"
          ]
        }
      ]
    },
    {
      "cell_type": "markdown",
      "source": [
        "**Pass Statment:**\n",
        "\n",
        "The pass statement in Python is a placeholder that allows you to write conditional statements without executing any action. It prevents syntax errors when an empty block of code is needed.\n"
      ],
      "metadata": {
        "id": "7dpmrb7joIDq"
      }
    },
    {
      "cell_type": "markdown",
      "source": [
        "**Monthly Plan**\n",
        "*   Baking classes (no idea / pending)\n",
        "\n",
        "*   Planning Trip (will go Islamabad with friends)\n",
        "\n",
        "*   Make Python Projects (I will make a grading system)"
      ],
      "metadata": {
        "id": "CoXgtO5TAcc4"
      }
    },
    {
      "cell_type": "markdown",
      "source": [
        "**Why Use pass in Conditional Statements?**\n",
        "\n",
        "\n",
        "*   Placeholder for Future Code.\n",
        "*   Avoid Indentation Errors.\n",
        "\n",
        "\n",
        "\n",
        "\n",
        "\n",
        "\n"
      ],
      "metadata": {
        "id": "Vj0dfLYZtJal"
      }
    },
    {
      "cell_type": "code",
      "source": [
        "age = 18\n",
        "\n",
        "if age >= 18:\n",
        "    pass\n",
        "else:\n",
        "    print(\"You are eligible for ID card.\")\n"
      ],
      "metadata": {
        "id": "vO2gyB31tu5a"
      },
      "execution_count": null,
      "outputs": []
    },
    {
      "cell_type": "code",
      "source": [
        "number = 10\n",
        "\n",
        "if number > 0:\n",
        "    if number % 2 == 0:\n",
        "        pass\n",
        "    else:\n",
        "        print(\"Odd number\")\n",
        "else:\n",
        "    print(\"Negative number\")"
      ],
      "metadata": {
        "id": "KuDtPHFAuH1x"
      },
      "execution_count": null,
      "outputs": []
    },
    {
      "cell_type": "markdown",
      "source": [
        "# **Practice Question:**\n",
        "\n",
        "**Grading System**\n",
        "\n",
        "Write a program that assigns grades based on a student's marks using conditional statements. The grading system is defined as follows:\n",
        "\n",
        "Marks greater than or equal to 90 receive an 'A'.\n",
        "\n",
        "Marks greater than or equal to 75 but less than 90 receive a 'B'.\n",
        "\n",
        "Marks greater than or equal to 60 but less than 75 receive a 'C'.\n",
        "\n",
        "Marks greater than or equal to 45 but less than 60 receive a 'D'.\n",
        "\n",
        "Marks less than 45 receive an 'F'."
      ],
      "metadata": {
        "id": "ayPRMYGc5oyd"
      }
    },
    {
      "cell_type": "code",
      "source": [
        "marks = int(input(\"Enter your marks:\"))\n",
        "\n",
        "if marks >= 101 or marks < 0:\n",
        "    print(\"Out of Marking Criteria\")\n",
        "\n",
        "elif marks >= 90:\n",
        "    print(\"Congratulations!- A Grade\")\n",
        "elif marks >= 75:\n",
        "    print(\"B Grade\")\n",
        "elif marks >= 60:\n",
        "    print(\"C Grade\")\n",
        "elif marks >= 45:\n",
        "    print(\"D Grade\")\n",
        "\n",
        "else:\n",
        "    print(\"F Grade\")"
      ],
      "metadata": {
        "id": "bNhEUXXk0xGr"
      },
      "execution_count": null,
      "outputs": []
    },
    {
      "cell_type": "markdown",
      "source": [
        "**Simple Calculator**\n",
        "\n",
        "- Concepts Used: Operators, Variables, Type Casting, User Input, Conditions.\n",
        "\n",
        "- Description: A program that takes two numbers as input and an operator (+, -, *, /, %) to perform basic arithmetic operations.\n",
        "\n",
        "- Example Features:\n",
        "\n",
        "  -- User enters two numbers and an operation.\n",
        "\n",
        "  -- Program performs the calculation and prints the result."
      ],
      "metadata": {
        "id": "Mt8NmQp_BTRZ"
      }
    },
    {
      "cell_type": "code",
      "source": [
        "#first = float(input(\"Enter First Number\", value=0.0, format=\"%.6f\"))\n",
        "first = float(input(\"Enter the first number: \"))\n",
        "second = float(input(\"Enter the second number: \"))\n",
        "\n",
        "operator = input(\"Enter an Operator (+, -, *, /, %): \")\n",
        "\n",
        "if operator == '+':\n",
        "    result = first + second\n",
        "    print(\"Result:\", round(result, 2))\n",
        "\n",
        "\n",
        "elif operator == '-':\n",
        "    result = first - second\n",
        "    print(f\"Result: {result: .2f}\")\n",
        "\n",
        "elif operator == '*':\n",
        "    result = first * second\n",
        "    print(\"Result:\", result)\n",
        "\n",
        "elif operator == '/':\n",
        "    if second != 0:\n",
        "        result = first / second\n",
        "        print(\"Result:\", result)\n",
        "    else:\n",
        "        print(\"Error! Division by Zero is Not Allowed.\")\n",
        "\n",
        "elif operator == '%':\n",
        "    if second != 0:\n",
        "        result = first % second\n",
        "        print(\"Result:\", result)\n",
        "    else:\n",
        "        print(\"Error! Modulus by Zero is Not Allowed.\")\n",
        "\n",
        "else:\n",
        "    print(\"Invalid operator! Please enter a valid operator (+, -, *, /, %)\")"
      ],
      "metadata": {
        "id": "BIecFjn1h0Ve",
        "colab": {
          "base_uri": "https://localhost:8080/"
        },
        "outputId": "7d253f8d-56b1-4eec-85c1-3666b23a5025"
      },
      "execution_count": null,
      "outputs": [
        {
          "output_type": "stream",
          "name": "stdout",
          "text": [
            "Enter the first number: 68.32\n",
            "Enter the second number: 12.3244\n",
            "Enter an Operator (+, -, *, /, %): -\n",
            "Result:  56.00\n"
          ]
        }
      ]
    },
    {
      "cell_type": "markdown",
      "source": [
        "**Even or Odd Checker**\n",
        "\n",
        "- Concepts Used: Variables, Operators, Conditions, User Input.\n",
        "\n",
        "- Description: A program that takes a number as input and checks whether it is even or odd.\n",
        "\n",
        "- Example Features:\n",
        "\n",
        " -- User enters a number.\n",
        "\n",
        " -- Program checks divisibility by 2.\n",
        "\n",
        " -- Prints whether the number is even or odd."
      ],
      "metadata": {
        "id": "yTZ797tTErIa"
      }
    },
    {
      "cell_type": "markdown",
      "source": [
        "**Simple Login System**\n",
        "\n",
        "- Concepts Used: Variables, Comparison Operators, Conditions\n",
        "\n",
        "- Description: A basic program that asks for a username and password and verifies if they match predefined values.\n",
        "\n",
        "- Example Features:\n",
        "\n",
        " -- User enters login credentials.\n",
        "\n",
        " -- Program checks if they match stored values.\n",
        "\n",
        " -- Displays success or failure message."
      ],
      "metadata": {
        "id": "d34at7P4E9dZ"
      }
    },
    {
      "cell_type": "markdown",
      "source": [
        "**ATM Withdrawal System**\n",
        "\n",
        "- Concepts Used: Variables, Conditions, Logical Operators\n",
        "- Description: A program that ensures user is withdrawing valid amound from ATM.\n",
        "- Example Features:\n",
        "\n",
        " -- Set an initial account balance.\n",
        "\n",
        " -- Ask the user to enter the amount they want to withdraw.\n",
        "\n",
        " -- Check if the balance is sufficient.\n",
        "\n",
        " -- If yes, deduct the amount and show the new balance.\n",
        "\n",
        " -- If no, show \"Insufficient funds\".\n",
        "\n",
        "💡 Enhancement: Ensure users cannot withdraw negative amounts."
      ],
      "metadata": {
        "id": "pKD2otaiHhcF"
      }
    },
    {
      "cell_type": "markdown",
      "source": [
        "**Simple Membership Checker**\n",
        "\n",
        "- Concepts Used: Membership Operators (in, not in), Logical Operators, Conditions.\n",
        "\n",
        "- Description: A program that checks if a user-entered item exists in a predefined list (e.g., valid usernames, authorized members).\n",
        "\n",
        "- Example Features:\n",
        "\n",
        " -- User enters a name.\n",
        "\n",
        " -- Program checks if the name is in the allowed list.\n",
        "\n",
        " -- Prints \"Access Granted\" or \"Access Denied\"."
      ],
      "metadata": {
        "id": "lc6gC0KpFPvi"
      }
    },
    {
      "cell_type": "markdown",
      "source": [
        "**Basic Discount Calculator**\n",
        "\n",
        "- Concepts Used: Arithmetic Operators, Conditions, Logical Operators.\n",
        "\n",
        "- Description: A program that calculates the final price after applying a discount based on the purchase amount.\n",
        "\n",
        "- Example Features:\n",
        "\n",
        " -- User enters cart value.\n",
        "\n",
        " -- Discounts applied based on amount.\n",
        "\n",
        " -- Final price displayed."
      ],
      "metadata": {
        "id": "ibqU1nmMFqdF"
      }
    },
    {
      "cell_type": "markdown",
      "source": [
        "**Leap Year Checker**\n",
        "\n",
        "- Concepts Used: Conditions, Logical Operators.\n",
        "\n",
        "- Description: A program that checks whether a given year is a leap year or not.\n",
        "\n",
        "- Example Features:\n",
        "\n",
        " -- User enters a year.\n",
        "\n",
        " -- Program checks divisibility rules for leap years.\n",
        "\n",
        " -- Displays whether it is a leap year."
      ],
      "metadata": {
        "id": "uS8V9TO_F8Yc"
      }
    },
    {
      "cell_type": "markdown",
      "source": [
        "**Traffic Light Simulator (Text-Based)**\n",
        "- Concepts Used: Conditions, User Input.\n",
        "\n",
        "- Description: A program that asks the user to enter a traffic light color and suggests an action (Red = Stop, Yellow = Slow Down, Green = Go).\n",
        "\n",
        "- Example Features:\n",
        "\n",
        " -- User enters a color.\n",
        "\n",
        " -- Program gives the appropriate action."
      ],
      "metadata": {
        "id": "sdnfjVSeGXsa"
      }
    }
  ]
}