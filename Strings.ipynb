{
  "nbformat": 4,
  "nbformat_minor": 0,
  "metadata": {
    "colab": {
      "provenance": [],
      "include_colab_link": true
    },
    "kernelspec": {
      "name": "python3",
      "display_name": "Python 3"
    },
    "language_info": {
      "name": "python"
    }
  },
  "cells": [
    {
      "cell_type": "markdown",
      "metadata": {
        "id": "view-in-github",
        "colab_type": "text"
      },
      "source": [
        "<a href=\"https://colab.research.google.com/github/Izzah-Khursheed/Python-Colab/blob/main/Strings.ipynb\" target=\"_parent\"><img src=\"https://colab.research.google.com/assets/colab-badge.svg\" alt=\"Open In Colab\"/></a>"
      ]
    },
    {
      "cell_type": "markdown",
      "source": [
        "**Python String:**\n",
        "\n",
        "A string is a **sequence of characters** used to represent text in programming.\n",
        "\n",
        "It can include **letters**, **numbers**, **symbols**, and\n",
        "**spaces**.\n",
        "\n",
        "Strings in python are surrounded by either **single quotation** marks, or **double quotation** marks."
      ],
      "metadata": {
        "id": "L9m-I1oDg8On"
      }
    },
    {
      "cell_type": "code",
      "execution_count": null,
      "metadata": {
        "colab": {
          "base_uri": "https://localhost:8080/"
        },
        "id": "9q-JzdHPUApw",
        "outputId": "edf675bb-5eee-4fe2-a204-83a52c9d7ad4"
      },
      "outputs": [
        {
          "output_type": "stream",
          "name": "stdout",
          "text": [
            "Python\n",
            "Python\n",
            "Programming\n"
          ]
        }
      ],
      "source": [
        "x = \"Python\"\n",
        "print(x)\n",
        "print(\"Python\")\n",
        "y = 'Programming'\n",
        "print(y)"
      ]
    },
    {
      "cell_type": "markdown",
      "source": [
        "**Multiline String:**\n",
        "\n",
        "A multiline string is a string that spans **multiple lines** instead of staying on one line.\n",
        "\n",
        "You can assign a multiline string to a variable by using **three double quotes or three single quotes.**\n",
        "\n"
      ],
      "metadata": {
        "id": "XnPaOf_Ki4V4"
      }
    },
    {
      "cell_type": "code",
      "source": [
        "a = \"\"\"Hello everyone! I'm Tayyaba Mustafa.\n",
        "\n",
        "I'm currently pursuing my bachelor's in Computer science.\"\"\"\n",
        "print(a)"
      ],
      "metadata": {
        "colab": {
          "base_uri": "https://localhost:8080/"
        },
        "id": "gesDcGsMiLEB",
        "outputId": "4d21ec95-7e07-41fb-a7ca-219de988cc59",
        "collapsed": true
      },
      "execution_count": null,
      "outputs": [
        {
          "output_type": "stream",
          "name": "stdout",
          "text": [
            "Hello everyone! I'm Tayyaba Mustafa.\n",
            "\n",
            "I'm currently pursuing my bachelor's in Computer science.\n"
          ]
        }
      ]
    },
    {
      "cell_type": "markdown",
      "source": [
        "Multiline strings **preserve spaces** and **newlines** exactly as written."
      ],
      "metadata": {
        "id": "pki38mShg-Kv"
      }
    },
    {
      "cell_type": "code",
      "source": [
        "quote = \"\"\"Dear User,\n",
        "\n",
        "Thank you for using our service.\n",
        "Have a great day!\n",
        "\n",
        "Best regards,\n",
        "The Team\"\"\"\n",
        "print(quote)\n"
      ],
      "metadata": {
        "colab": {
          "base_uri": "https://localhost:8080/"
        },
        "collapsed": true,
        "id": "rP07HxbxhDsV",
        "outputId": "37cf7583-be37-4b8f-8a98-e07504004e1b"
      },
      "execution_count": null,
      "outputs": [
        {
          "output_type": "stream",
          "name": "stdout",
          "text": [
            "Dear User,\n",
            "\n",
            "Thank you for using our service.\n",
            "Have a great day!\n",
            "\n",
            "Best regards,\n",
            "The Team\n"
          ]
        }
      ]
    },
    {
      "cell_type": "markdown",
      "source": [
        "Even without triple quotes, you can use **\\n (newline character)** inside a normal string."
      ],
      "metadata": {
        "id": "d8-iSbushTb2"
      }
    },
    {
      "cell_type": "code",
      "source": [
        "message = \"Hello!\\n\\nWelcome to Python\\nThis is an example of a multiline string.\"\n",
        "print(message)\n"
      ],
      "metadata": {
        "colab": {
          "base_uri": "https://localhost:8080/"
        },
        "id": "RNllKNXphXo5",
        "outputId": "ddcba142-f458-43f6-806d-74dbd1570cf7"
      },
      "execution_count": null,
      "outputs": [
        {
          "output_type": "stream",
          "name": "stdout",
          "text": [
            "Hello!\n",
            "\n",
            "Welcome to Python\n",
            "This is an example of a multiline string.\n"
          ]
        }
      ]
    },
    {
      "cell_type": "markdown",
      "source": [
        "**String Concatenation:**\n",
        "\n",
        "To concatenate, or combine, two strings you can use the **\"+\"** operator."
      ],
      "metadata": {
        "id": "m9mhpDD0jHZG"
      }
    },
    {
      "cell_type": "code",
      "source": [
        "a = \"Codebettle's\"\n",
        "b = \"Python\"\n",
        "c = \"Crash\"\n",
        "d = \"Course\"\n",
        "print(a+b+c+d)\n",
        "\n",
        "print(a+\" \"+b+\" \"+c+\" \"+d)"
      ],
      "metadata": {
        "colab": {
          "base_uri": "https://localhost:8080/"
        },
        "id": "BtyYOOCsixVv",
        "outputId": "946df3d8-1073-4a06-fdb0-c38470d0e70d",
        "collapsed": true
      },
      "execution_count": null,
      "outputs": [
        {
          "output_type": "stream",
          "name": "stdout",
          "text": [
            "Codebettle'sPythonCrashCourse\n",
            "Codebettle's Python Crash Course\n"
          ]
        }
      ]
    },
    {
      "cell_type": "code",
      "source": [
        "first_name = \"John\"\n",
        "last_name = \"Doe\"\n",
        "full_name = first_name + \" \" + last_name\n",
        "print(full_name)\n"
      ],
      "metadata": {
        "colab": {
          "base_uri": "https://localhost:8080/"
        },
        "collapsed": true,
        "id": "j6u9ZiiWikfR",
        "outputId": "31708573-6def-46b9-e545-e65c17aeb9c6"
      },
      "execution_count": null,
      "outputs": [
        {
          "output_type": "stream",
          "name": "stdout",
          "text": [
            "John Doe\n"
          ]
        }
      ]
    },
    {
      "cell_type": "markdown",
      "source": [
        "**Formatted String:**\n",
        "\n",
        "The format() method helps insert **values** into a string using placeholders.The placeholder is defined using curly brackets: {}.\n",
        "\n"
      ],
      "metadata": {
        "id": "ah-5zr2zj241"
      }
    },
    {
      "cell_type": "code",
      "source": [
        "w = \"55kg\"\n",
        "print(f\"My weight is {w}.\")"
      ],
      "metadata": {
        "colab": {
          "base_uri": "https://localhost:8080/"
        },
        "id": "l7YITZPakE69",
        "outputId": "83969103-29d5-43a7-8ba5-227e9775b79c",
        "collapsed": true
      },
      "execution_count": null,
      "outputs": [
        {
          "output_type": "stream",
          "name": "stdout",
          "text": [
            "My weight is 55kg.\n"
          ]
        }
      ]
    },
    {
      "cell_type": "code",
      "source": [
        "city = \"New York\"\n",
        "country = \"USA\"\n",
        "print(f\"I live in {city}, which is in {country}.\")"
      ],
      "metadata": {
        "colab": {
          "base_uri": "https://localhost:8080/"
        },
        "collapsed": true,
        "id": "vwIKh898jf_X",
        "outputId": "6ac71310-6c3d-41c0-8381-a769ce3f197b"
      },
      "execution_count": null,
      "outputs": [
        {
          "output_type": "stream",
          "name": "stdout",
          "text": [
            "I live in New York, which is in USA.\n"
          ]
        }
      ]
    },
    {
      "cell_type": "markdown",
      "source": [
        "**Strings are Arrays:**\n",
        "\n",
        "In Python, a string is a sequence of characters. Just like an array holds multiple items, a string holds a sequence of letters, numbers, or symbols.\n",
        "\n",
        "Every character in a string has a **position (index)**.\n",
        "\n",
        "You can access characters one by one using indexing.\n",
        "\n",
        "However, Python does not have a character data type, a single character is simply a string with a length of 1.\n",
        "\n",
        "Square brackets can be used to access elements of the string."
      ],
      "metadata": {
        "id": "8ilxKvplZGzQ"
      }
    },
    {
      "cell_type": "code",
      "source": [
        "x = \"Hello World!\"\n",
        "print(x[4])\n",
        "print(id(x))"
      ],
      "metadata": {
        "colab": {
          "base_uri": "https://localhost:8080/"
        },
        "id": "-AIQ8Ks2Zya-",
        "outputId": "903f439a-631e-4172-b133-78f47b863aea",
        "collapsed": true
      },
      "execution_count": null,
      "outputs": [
        {
          "output_type": "stream",
          "name": "stdout",
          "text": [
            "o\n",
            "132615676619696\n"
          ]
        }
      ]
    },
    {
      "cell_type": "markdown",
      "source": [
        "**String are immutable:**\n",
        "\n",
        "Strings are not mutable in Python. Strings are a immutable data types which means that its value cannot be updated."
      ],
      "metadata": {
        "id": "tY2FnkWXaoXA"
      }
    },
    {
      "cell_type": "code",
      "source": [
        "a = \"Tayyaba Mustafa\"\n",
        "a[2] = \"i\"\n",
        "print(a)"
      ],
      "metadata": {
        "colab": {
          "base_uri": "https://localhost:8080/",
          "height": 176
        },
        "id": "gFtSO29Na8Hi",
        "outputId": "776cdd29-70eb-476b-b673-2808d91c3f80",
        "collapsed": true
      },
      "execution_count": null,
      "outputs": [
        {
          "output_type": "error",
          "ename": "TypeError",
          "evalue": "'str' object does not support item assignment",
          "traceback": [
            "\u001b[0;31m---------------------------------------------------------------------------\u001b[0m",
            "\u001b[0;31mTypeError\u001b[0m                                 Traceback (most recent call last)",
            "\u001b[0;32m<ipython-input-3-511f5ae9cfa8>\u001b[0m in \u001b[0;36m<cell line: 2>\u001b[0;34m()\u001b[0m\n\u001b[1;32m      1\u001b[0m \u001b[0ma\u001b[0m \u001b[0;34m=\u001b[0m \u001b[0;34m\"Tayyaba Mustafa\"\u001b[0m\u001b[0;34m\u001b[0m\u001b[0;34m\u001b[0m\u001b[0m\n\u001b[0;32m----> 2\u001b[0;31m \u001b[0ma\u001b[0m\u001b[0;34m[\u001b[0m\u001b[0;36m2\u001b[0m\u001b[0;34m]\u001b[0m \u001b[0;34m=\u001b[0m \u001b[0;34m\"i\"\u001b[0m\u001b[0;34m\u001b[0m\u001b[0;34m\u001b[0m\u001b[0m\n\u001b[0m\u001b[1;32m      3\u001b[0m \u001b[0mprint\u001b[0m\u001b[0;34m(\u001b[0m\u001b[0ma\u001b[0m\u001b[0;34m)\u001b[0m\u001b[0;34m\u001b[0m\u001b[0;34m\u001b[0m\u001b[0m\n",
            "\u001b[0;31mTypeError\u001b[0m: 'str' object does not support item assignment"
          ]
        }
      ]
    },
    {
      "cell_type": "markdown",
      "source": [
        "**Negative Indexing:**\n",
        "\n",
        "Use negative indexes to start the slice from the **end** of the string."
      ],
      "metadata": {
        "id": "ZO1UDLoPbdo5"
      }
    },
    {
      "cell_type": "code",
      "source": [
        "x = \"Hello world\"\n",
        "print(x[-1])\n",
        "print(x[-2])\n",
        "print(x[-3])"
      ],
      "metadata": {
        "colab": {
          "base_uri": "https://localhost:8080/"
        },
        "id": "WK5KMzL-dAnl",
        "outputId": "f83499f2-90c3-4a1d-b88f-b4d081fefe59",
        "collapsed": true
      },
      "execution_count": null,
      "outputs": [
        {
          "output_type": "stream",
          "name": "stdout",
          "text": [
            "d\n",
            "l\n",
            "r\n"
          ]
        }
      ]
    },
    {
      "cell_type": "markdown",
      "source": [
        "**String Length:**\n",
        "\n",
        "To get the length of a string, use the **len()** function."
      ],
      "metadata": {
        "id": "NoC51vIpdRN3"
      }
    },
    {
      "cell_type": "code",
      "source": [
        "a = \"Hyy Everyone!\"\n",
        "print(len(a))"
      ],
      "metadata": {
        "colab": {
          "base_uri": "https://localhost:8080/"
        },
        "id": "D6ZRKTKZdYq9",
        "outputId": "42c0e12f-1e7f-4620-d45f-47e251c5e300",
        "collapsed": true
      },
      "execution_count": null,
      "outputs": [
        {
          "output_type": "stream",
          "name": "stdout",
          "text": [
            "13\n"
          ]
        }
      ]
    },
    {
      "cell_type": "markdown",
      "source": [
        "**String Index:**\n",
        "\n",
        "We can use **index() method** to find the index of a specific character or substring in a string."
      ],
      "metadata": {
        "id": "WdYrsem4dmvH"
      }
    },
    {
      "cell_type": "code",
      "source": [
        "x = \"I am a programmer.\"\n",
        "print(x.index(\"a\"))"
      ],
      "metadata": {
        "colab": {
          "base_uri": "https://localhost:8080/"
        },
        "id": "eMigdqcMdsmW",
        "outputId": "7d017c1d-48a2-4bea-8577-1c961ba4bd3f"
      },
      "execution_count": null,
      "outputs": [
        {
          "output_type": "stream",
          "name": "stdout",
          "text": [
            "2\n"
          ]
        }
      ]
    },
    {
      "cell_type": "markdown",
      "source": [
        "**Looping through a string:**\n",
        "\n",
        "Since strings are arrays, we can loop through the characters in a string, with a for loop."
      ],
      "metadata": {
        "id": "FcEHOiR5d__6"
      }
    },
    {
      "cell_type": "code",
      "source": [
        "for i in \"Python Programming\":\n",
        "  print(i)"
      ],
      "metadata": {
        "colab": {
          "base_uri": "https://localhost:8080/"
        },
        "id": "u37o9OejeGio",
        "outputId": "24a37cab-b02e-4428-d80d-6a2549b5e275"
      },
      "execution_count": null,
      "outputs": [
        {
          "output_type": "stream",
          "name": "stdout",
          "text": [
            "P\n",
            "y\n",
            "t\n",
            "h\n",
            "o\n",
            "n\n",
            " \n",
            "P\n",
            "r\n",
            "o\n",
            "g\n",
            "r\n",
            "a\n",
            "m\n",
            "m\n",
            "i\n",
            "n\n",
            "g\n"
          ]
        }
      ]
    },
    {
      "cell_type": "markdown",
      "source": [
        "**Membership Operators:**\n",
        "\n",
        "Membership operators are used to test if **a sequence is presented** in an object\n",
        "\n",
        "**in** Returns \"**True**\" if a sequence with the **specified value is present** in the object\n",
        "\n",
        "**not in** Returns \"**True**\" if a sequence with the **specified value is not present** in the object"
      ],
      "metadata": {
        "id": "6BrVr9e2eazM"
      }
    },
    {
      "cell_type": "code",
      "source": [
        "a = \"Python Programming Language\"\n",
        "print(\"g\" in a)\n",
        "print(\"q\" in a)\n",
        "print(\"w\" not in a)\n",
        "print(\"e\" not in a)"
      ],
      "metadata": {
        "colab": {
          "base_uri": "https://localhost:8080/"
        },
        "id": "Eh-GF3QcehNc",
        "outputId": "7d3e5769-d0a6-4184-c7f3-ca15e27fce4b"
      },
      "execution_count": null,
      "outputs": [
        {
          "output_type": "stream",
          "name": "stdout",
          "text": [
            "True\n",
            "False\n",
            "True\n",
            "False\n"
          ]
        }
      ]
    },
    {
      "cell_type": "markdown",
      "source": [
        "**Slicing:**\n",
        "\n",
        "In Python, string slicing is used to **extract a portion** of a string by specifying a **start**, **stop**, and **step** value.\n",
        "\n",
        "There are three values separated by a **colon(:)**.\n",
        "\n",
        "Syntax= string[start:end:step]\n",
        "\n",
        "**start:** The index where the slice begins (inclusive).\n",
        "\n",
        "**stop:** The index where the slice ends (exclusive).\n",
        "\n",
        "**step:** The interval between characters (optional, default is 1)."
      ],
      "metadata": {
        "id": "5SB6urD6fEzF"
      }
    },
    {
      "cell_type": "code",
      "source": [
        "text = \"Hello World!\"\n",
        "print(text[0:5])"
      ],
      "metadata": {
        "colab": {
          "base_uri": "https://localhost:8080/"
        },
        "id": "vI8Ma5ILjQY5",
        "outputId": "cacd7335-7351-4103-c4a7-2ee2b8aed36e"
      },
      "execution_count": null,
      "outputs": [
        {
          "output_type": "stream",
          "name": "stdout",
          "text": [
            "Hello\n"
          ]
        }
      ]
    },
    {
      "cell_type": "code",
      "source": [
        "text = \"Hello World!\"\n",
        "print(text[:3])"
      ],
      "metadata": {
        "colab": {
          "base_uri": "https://localhost:8080/"
        },
        "id": "vCd9Rar6jir8",
        "outputId": "11515a91-ebe7-4468-985b-a9d01f6ccfd8"
      },
      "execution_count": null,
      "outputs": [
        {
          "output_type": "stream",
          "name": "stdout",
          "text": [
            "Hel\n"
          ]
        }
      ]
    },
    {
      "cell_type": "code",
      "source": [
        "x = \"Python programming\"\n",
        "print(x[7:])"
      ],
      "metadata": {
        "colab": {
          "base_uri": "https://localhost:8080/"
        },
        "id": "NLiRsGNYj3iw",
        "outputId": "6bf03f13-17c5-4d4c-e952-0fde8ec10064"
      },
      "execution_count": null,
      "outputs": [
        {
          "output_type": "stream",
          "name": "stdout",
          "text": [
            "programming\n"
          ]
        }
      ]
    },
    {
      "cell_type": "code",
      "source": [
        "a = \"Python Programming Language\"\n",
        "print(a[4:15:2])"
      ],
      "metadata": {
        "colab": {
          "base_uri": "https://localhost:8080/"
        },
        "id": "DykM9tCjfIVe",
        "outputId": "921c940c-5aec-4dc5-e29b-3055056293bc"
      },
      "execution_count": null,
      "outputs": [
        {
          "output_type": "stream",
          "name": "stdout",
          "text": [
            "o rgam\n"
          ]
        }
      ]
    },
    {
      "cell_type": "markdown",
      "source": [
        "**String methods:**\n",
        "\n",
        "Python has a set of built-in methods that you can use on strings.\n",
        "\n",
        "**Upper Case:**\n",
        "\n",
        "The upper() method returns the string in **upper case**.\n",
        "\n",
        "**Lower Case:**\n",
        "\n",
        "The lower() method returns the string in **lower case**.\n",
        "\n",
        "**Capitalize:**\n",
        "\n",
        "The capitalize() method returns the string with **first character capitalized**."
      ],
      "metadata": {
        "id": "BCKuxkgrfqPL"
      }
    },
    {
      "cell_type": "code",
      "source": [
        "#Upper case\n",
        "a = \"TaYYaba MusTAFA\"\n",
        "print(a.upper())\n",
        "\n",
        "#Lower case\n",
        "print(a.lower())\n",
        "\n",
        "#Capitalize\n",
        "print(a.capitalize())"
      ],
      "metadata": {
        "colab": {
          "base_uri": "https://localhost:8080/"
        },
        "id": "eE-8JsMUggwL",
        "outputId": "88d9f827-aba8-4d32-e54a-a0581628e88d"
      },
      "execution_count": null,
      "outputs": [
        {
          "output_type": "stream",
          "name": "stdout",
          "text": [
            "TAYYABA MUSTAFA\n",
            "tayyaba mustafa\n",
            "Tayyaba mustafa\n"
          ]
        }
      ]
    },
    {
      "cell_type": "markdown",
      "source": [
        "**Sorted:**\n",
        "\n",
        "The sorted function is used to **sort the string alphabatically**."
      ],
      "metadata": {
        "id": "8kr5jUEGk9EK"
      }
    },
    {
      "cell_type": "code",
      "source": [
        "#Sorted (Ascending Order)\n",
        "x = \"Hello Tayyaba!\"\n",
        "print(sorted(x))"
      ],
      "metadata": {
        "colab": {
          "base_uri": "https://localhost:8080/"
        },
        "id": "gxM6HfO6hsE3",
        "outputId": "0be87a0a-55a4-4ee9-e7c8-dc3bfbe0e1cd"
      },
      "execution_count": null,
      "outputs": [
        {
          "output_type": "stream",
          "name": "stdout",
          "text": [
            "[' ', '!', 'H', 'T', 'a', 'a', 'a', 'b', 'e', 'l', 'l', 'o', 'y', 'y']\n"
          ]
        }
      ]
    },
    {
      "cell_type": "code",
      "source": [
        "text = \"Hello123!@#\"\n",
        "print(sorted(text))"
      ],
      "metadata": {
        "colab": {
          "base_uri": "https://localhost:8080/"
        },
        "id": "4xNOqUaBmegs",
        "outputId": "06034b99-480b-4f77-9a84-118ce6943d72"
      },
      "execution_count": null,
      "outputs": [
        {
          "output_type": "stream",
          "name": "stdout",
          "text": [
            "['!', '#', '1', '2', '3', '@', 'H', 'e', 'l', 'l', 'o']\n"
          ]
        }
      ]
    },
    {
      "cell_type": "code",
      "source": [
        "x = \"Hello Tayyaba!\"\n",
        "print(sorted(x, reverse=True))"
      ],
      "metadata": {
        "colab": {
          "base_uri": "https://localhost:8080/"
        },
        "collapsed": true,
        "id": "hqHrCS0sX_kK",
        "outputId": "89216b4b-1582-4ce1-8c4e-5ff3b4ce295f"
      },
      "execution_count": null,
      "outputs": [
        {
          "output_type": "stream",
          "name": "stdout",
          "text": [
            "['y', 'y', 'o', 'l', 'l', 'e', 'b', 'a', 'a', 'a', 'T', 'H', '!', ' ']\n"
          ]
        }
      ]
    },
    {
      "cell_type": "markdown",
      "source": [
        "**Join:**\n",
        "\n",
        "The join() function in Python is used to **concatenate** elements of an **iterable (like a list, tuple, or set)** into a **single string**, with a **specified separator**.\n",
        "\n",
        "**Syntax:**\n",
        "\n",
        "separator.join(iterable)\n",
        "\n",
        "**separator** → The character(s) used to join the strings.\n",
        "\n",
        "**iterable** → A list, tuple, or any sequence of strings.\n"
      ],
      "metadata": {
        "id": "ex9ScWCklOzF"
      }
    },
    {
      "cell_type": "code",
      "source": [
        "date_parts = \"20250214\"\n",
        "result = \"-\".join(date_parts)\n",
        "print(result)"
      ],
      "metadata": {
        "colab": {
          "base_uri": "https://localhost:8080/"
        },
        "id": "nyx4us2spgW6",
        "outputId": "37e2095f-f47d-4685-8eab-a49388efc915"
      },
      "execution_count": null,
      "outputs": [
        {
          "output_type": "stream",
          "name": "stdout",
          "text": [
            "2-0-2-5-0-2-1-4\n"
          ]
        }
      ]
    },
    {
      "cell_type": "code",
      "source": [
        "x = \"Python Programming\"\n",
        "a = \"/\".join(x)\n",
        "print(a)"
      ],
      "metadata": {
        "id": "2zYdStdWi7iv",
        "colab": {
          "base_uri": "https://localhost:8080/"
        },
        "outputId": "c7205a2b-f9ee-43a6-e1ab-c55680d5231e"
      },
      "execution_count": null,
      "outputs": [
        {
          "output_type": "stream",
          "name": "stdout",
          "text": [
            "P/y/t/h/o/n/ /P/r/o/g/r/a/m/m/i/n/g\n"
          ]
        }
      ]
    },
    {
      "cell_type": "markdown",
      "source": [
        "**Count:**\n",
        "\n",
        "The count method is used to **count the occurences** of a specific character or substring in a string."
      ],
      "metadata": {
        "id": "tKB7fCk_qhwE"
      }
    },
    {
      "cell_type": "code",
      "source": [
        "x = \"Python Programming\"\n",
        "print(x.count(\"o\"))"
      ],
      "metadata": {
        "colab": {
          "base_uri": "https://localhost:8080/"
        },
        "id": "ysRxmzEiSbAf",
        "outputId": "fe4ea25f-38d4-4dc3-b4ad-63b5bd2979a8"
      },
      "execution_count": null,
      "outputs": [
        {
          "output_type": "stream",
          "name": "stdout",
          "text": [
            "2\n"
          ]
        }
      ]
    },
    {
      "cell_type": "markdown",
      "source": [
        "**endswith:**\n",
        "\n",
        "It checks whether a string ends with a specified character."
      ],
      "metadata": {
        "id": "7EflBn0QqryO"
      }
    },
    {
      "cell_type": "code",
      "source": [
        "x = \"Python Programming\"\n",
        "print(x.endswith(\"ing\"))"
      ],
      "metadata": {
        "colab": {
          "base_uri": "https://localhost:8080/"
        },
        "id": "Ko0TcYeYS7ny",
        "outputId": "2c6fde71-3ff5-4d02-d41f-0d4e95361d58"
      },
      "execution_count": null,
      "outputs": [
        {
          "output_type": "stream",
          "name": "stdout",
          "text": [
            "True\n"
          ]
        }
      ]
    },
    {
      "cell_type": "markdown",
      "source": [
        "**startswith:**\n",
        "\n",
        "It checks whether a string starts with a specified character."
      ],
      "metadata": {
        "id": "Lbu8KHbUq-uc"
      }
    },
    {
      "cell_type": "code",
      "source": [
        "x = \"Python Programming\"\n",
        "print(x.startswith(\"m\"))"
      ],
      "metadata": {
        "colab": {
          "base_uri": "https://localhost:8080/"
        },
        "id": "hZEmFc9gTORx",
        "outputId": "4995a57c-c21a-4b4a-ea09-03ee0853ba3b"
      },
      "execution_count": null,
      "outputs": [
        {
          "output_type": "stream",
          "name": "stdout",
          "text": [
            "False\n"
          ]
        }
      ]
    },
    {
      "cell_type": "markdown",
      "source": [
        "**find:**\n",
        "\n",
        "It checks at what position a specified character is present.\n",
        "\n",
        "If the substring is not found, it returns -1."
      ],
      "metadata": {
        "id": "v4EPYwegrJaq"
      }
    },
    {
      "cell_type": "code",
      "source": [
        "x = \"Python Programming\"\n",
        "print(x.find(\"m\"))"
      ],
      "metadata": {
        "colab": {
          "base_uri": "https://localhost:8080/"
        },
        "id": "cklfP6j4TcCC",
        "outputId": "2a0c9e5d-dad7-4d32-e99e-e4348107ff38"
      },
      "execution_count": null,
      "outputs": [
        {
          "output_type": "stream",
          "name": "stdout",
          "text": [
            "13\n"
          ]
        }
      ]
    },
    {
      "cell_type": "markdown",
      "source": [
        "**Escape Character:**\n",
        "\n",
        "Sometimes, we need to use special characters in a string, like a **new line, a tab, or even a quote** inside a quote.\n",
        "\n",
        "In Python, we use escape characters to do this.\n",
        "\n",
        "Escape characters start with a **backslash (\\)** followed by a **special letter**."
      ],
      "metadata": {
        "id": "NfmuscLBrnow"
      }
    },
    {
      "cell_type": "code",
      "source": [
        "text = \"Hello\\nPython\"\n",
        "print(text)"
      ],
      "metadata": {
        "colab": {
          "base_uri": "https://localhost:8080/"
        },
        "id": "PrUIRRhfsbER",
        "outputId": "20b06af2-9862-48a7-d145-06c304033bcf"
      },
      "execution_count": null,
      "outputs": [
        {
          "output_type": "stream",
          "name": "stdout",
          "text": [
            "Hello\n",
            "Python\n"
          ]
        }
      ]
    },
    {
      "cell_type": "code",
      "source": [
        "x = \"Pyt\\thon\\t Program\\tming\"\n",
        "print(x)"
      ],
      "metadata": {
        "colab": {
          "base_uri": "https://localhost:8080/"
        },
        "id": "8aZK8EJbXL4m",
        "outputId": "bdb11389-e08a-4d20-9f32-bf95e734a4e3"
      },
      "execution_count": null,
      "outputs": [
        {
          "output_type": "stream",
          "name": "stdout",
          "text": [
            "Pyt\thon\t Program\tming\n"
          ]
        }
      ]
    },
    {
      "cell_type": "code",
      "source": [
        "text = \"He said, \\\"Python is awesome!\\\"\"\n",
        "print(text)"
      ],
      "metadata": {
        "collapsed": true,
        "colab": {
          "base_uri": "https://localhost:8080/"
        },
        "id": "UVhXyKwIspnk",
        "outputId": "5e818f77-1c7a-4878-bb01-bb760a25e669"
      },
      "execution_count": null,
      "outputs": [
        {
          "output_type": "stream",
          "name": "stdout",
          "text": [
            "He said, \"Python is awesome!\"\n"
          ]
        }
      ]
    },
    {
      "cell_type": "markdown",
      "source": [
        "**Remove Whitespaces:**\n",
        "\n",
        "Whitespace is the **space** before and/or after the actual text, and very often you want to **remove** this space.\n",
        "\n",
        "The **strip() method** removes any whitespace from the beginning or the end."
      ],
      "metadata": {
        "id": "HV0rstofsumF"
      }
    },
    {
      "cell_type": "code",
      "source": [
        "x = \"Heo world!\"\n",
        "a = \"  Hello world!  \"\n",
        "print(x.strip())\n",
        "print(a.strip())\n",
        "print(a.lstrip())\n",
        "print(a.rstrip())\n",
        "print(x.strip('Hel'))  #it removes any combination of 'H', 'e', or 'l' from the start and end of the string."
      ],
      "metadata": {
        "colab": {
          "base_uri": "https://localhost:8080/"
        },
        "id": "kwCOXRVDYLvu",
        "outputId": "13577e92-6eed-4b3a-afdc-f14e67b3bb4b"
      },
      "execution_count": null,
      "outputs": [
        {
          "output_type": "stream",
          "name": "stdout",
          "text": [
            "Heo world!\n",
            "Hello world!\n",
            "Hello world!  \n",
            "  Hello world!\n",
            "o world!\n"
          ]
        }
      ]
    },
    {
      "cell_type": "code",
      "source": [
        "x = \" Sham Lohana mahS\"\n",
        "print(x.strip(' Sh'))\n",
        "print(x.strip(' Sha'))\n",
        "print(x.strip(' Sham'))"
      ],
      "metadata": {
        "colab": {
          "base_uri": "https://localhost:8080/"
        },
        "id": "VlMOP0iNojXD",
        "outputId": "3db1ea48-1627-4e37-d2c5-961d7a536fc5"
      },
      "execution_count": null,
      "outputs": [
        {
          "output_type": "stream",
          "name": "stdout",
          "text": [
            "am Lohana ma\n",
            "m Lohana m\n",
            "Lohan\n"
          ]
        }
      ]
    },
    {
      "cell_type": "markdown",
      "source": [
        "**Replace String:**\n",
        "\n",
        "The **replace() method** replaces a string with another string"
      ],
      "metadata": {
        "id": "G7dq-H9QteS3"
      }
    },
    {
      "cell_type": "code",
      "source": [
        "x = \"Hello world!\"\n",
        "print(x.replace(\"world\",\"there\"))"
      ],
      "metadata": {
        "colab": {
          "base_uri": "https://localhost:8080/"
        },
        "id": "kjxkuzhWasMN",
        "outputId": "e50b8792-0bd1-4df5-ba51-97f0bc99777f"
      },
      "execution_count": null,
      "outputs": [
        {
          "output_type": "stream",
          "name": "stdout",
          "text": [
            "Hello there!\n"
          ]
        }
      ]
    },
    {
      "cell_type": "code",
      "source": [
        "x = \"Hello world!\"\n",
        "z = x.replace(\"world\",\"there\")\n",
        "print(z)\n",
        "print(x)"
      ],
      "metadata": {
        "colab": {
          "base_uri": "https://localhost:8080/"
        },
        "id": "o5_ulPYAq1Wv",
        "outputId": "ded601ec-281a-4c00-a4c6-a1d63a53aea8"
      },
      "execution_count": null,
      "outputs": [
        {
          "output_type": "stream",
          "name": "stdout",
          "text": [
            "Hello there!\n",
            "Hello world!\n"
          ]
        }
      ]
    },
    {
      "cell_type": "code",
      "source": [
        "s = \"Python is fun\"\n",
        "\n",
        "# Replace all spaces in string with an empty string\n",
        "s = s.replace(\" \", \"\")\n",
        "print(s)"
      ],
      "metadata": {
        "id": "FF_7phpvjw_j",
        "outputId": "f66eaa19-c39c-4ae5-9709-72232a16f7b4",
        "colab": {
          "base_uri": "https://localhost:8080/"
        },
        "collapsed": true
      },
      "execution_count": null,
      "outputs": [
        {
          "output_type": "stream",
          "name": "stdout",
          "text": [
            "Pythonisfun\n"
          ]
        }
      ]
    },
    {
      "cell_type": "markdown",
      "source": [
        "**Split String:**\n",
        "\n",
        "The split() function in Python is used to **break a string** into multiple parts (a list of words or substrings) based on a separator.\n",
        "\n",
        "**Syntax:**\n",
        "\n",
        "string.split(separator)\n",
        "\n",
        "**separator** (optional): The character or string used to split the text. Default is a space.\n"
      ],
      "metadata": {
        "id": "584PApZ9uY6J"
      }
    },
    {
      "cell_type": "code",
      "source": [
        "a = \"Python is a programming language.\"\n",
        "print(a.split())\n",
        "print(a.split(\"o\"))\n",
        "print(\"/\".join(a.split()))"
      ],
      "metadata": {
        "colab": {
          "base_uri": "https://localhost:8080/"
        },
        "id": "XQz-eSfwbNCV",
        "outputId": "8f1bd273-f029-422e-eb6d-c206fc901a8a"
      },
      "execution_count": null,
      "outputs": [
        {
          "output_type": "stream",
          "name": "stdout",
          "text": [
            "['Python', 'is', 'a', 'programming', 'language.']\n",
            "['Pyth', 'n is a pr', 'gramming language.']\n",
            "Python/is/a/programming/language.\n"
          ]
        }
      ]
    },
    {
      "cell_type": "code",
      "source": [
        "text = \"Hello,World\"\n",
        "result = text.split(\"W\")\n",
        "print(result)"
      ],
      "metadata": {
        "colab": {
          "base_uri": "https://localhost:8080/"
        },
        "id": "NSWRTDW5aZz8",
        "outputId": "70064fdc-b1fe-4ff2-de7f-8e6e4a7906a7"
      },
      "execution_count": null,
      "outputs": [
        {
          "output_type": "stream",
          "name": "stdout",
          "text": [
            "['Hello,', 'orld']\n"
          ]
        }
      ]
    },
    {
      "cell_type": "markdown",
      "source": [
        "**Reverse String:**\n",
        "\n",
        "Reversing a string in Python means **changing the order of characters** so that the last character becomes the first, the second last becomes the second, and so on.\n",
        "\n",
        "Here are some ways to do it:"
      ],
      "metadata": {
        "id": "zIVgVMXSxmtE"
      }
    },
    {
      "cell_type": "code",
      "source": [
        "#Reverse of a string by using Slicing\n",
        "b = \"Tayyaba Mustafa\"\n",
        "print(b[::-1])"
      ],
      "metadata": {
        "colab": {
          "base_uri": "https://localhost:8080/"
        },
        "id": "R6QZf17mH9HQ",
        "outputId": "2e7c336a-3a8f-40e1-bb53-5c822ebee92a"
      },
      "execution_count": null,
      "outputs": [
        {
          "output_type": "stream",
          "name": "stdout",
          "text": [
            "afatsuM abayyaT\n"
          ]
        }
      ]
    },
    {
      "cell_type": "code",
      "source": [
        "#Reverse of a String by using reversed() function\n",
        "a = \"Python is a programming language.\"\n",
        "print(reversed(a))\n",
        "z = \"\".join(reversed(a))\n",
        "print(id(z))\n",
        "print(\"/\".join(reversed(a)))"
      ],
      "metadata": {
        "colab": {
          "base_uri": "https://localhost:8080/"
        },
        "id": "SlvFjUrpc9mJ",
        "outputId": "1ebfe78b-505c-467e-8fbf-e571de879ce9"
      },
      "execution_count": null,
      "outputs": [
        {
          "output_type": "stream",
          "name": "stdout",
          "text": [
            "<reversed object at 0x7eba97b663e0>\n",
            "139339322736528\n",
            "./e/g/a/u/g/n/a/l/ /g/n/i/m/m/a/r/g/o/r/p/ /a/ /s/i/ /n/o/h/t/y/P\n"
          ]
        }
      ]
    }
  ]
}